{
 "cells": [
  {
   "cell_type": "code",
   "execution_count": 14,
   "metadata": {},
   "outputs": [],
   "source": [
    "from libraries.db import DatabaseProxy\n",
    "from bertopic import BERTopic\n",
    "import dotenv\n",
    "from bertopic.representation import OpenAI, KeyBERTInspired\n",
    "import openai\n",
    "import os\n",
    "import pandas as pd\n",
    "import matplotlib.pyplot as plt"
   ]
  },
  {
   "cell_type": "code",
   "execution_count": 8,
   "metadata": {},
   "outputs": [
    {
     "data": {
      "text/plain": [
       "True"
      ]
     },
     "execution_count": 8,
     "metadata": {},
     "output_type": "execute_result"
    }
   ],
   "source": [
    "db = DatabaseProxy(reset=True, database=\"eda\")\n",
    "dotenv.load_dotenv(\".envrc\")"
   ]
  },
  {
   "cell_type": "code",
   "execution_count": 9,
   "metadata": {},
   "outputs": [],
   "source": [
    "df = pd.read_csv(\"input/qa-pairs.csv\", encoding=\"latin-1\")\n",
    "db.insert_from_dataframe(df, col_questions=\"question\", col_answers=\"answer\")"
   ]
  },
  {
   "cell_type": "markdown",
   "metadata": {},
   "source": [
    "# Basic Statistics"
   ]
  },
  {
   "cell_type": "code",
   "execution_count": 11,
   "metadata": {},
   "outputs": [
    {
     "data": {
      "text/html": [
       "<div>\n",
       "<style scoped>\n",
       "    .dataframe tbody tr th:only-of-type {\n",
       "        vertical-align: middle;\n",
       "    }\n",
       "\n",
       "    .dataframe tbody tr th {\n",
       "        vertical-align: top;\n",
       "    }\n",
       "\n",
       "    .dataframe thead th {\n",
       "        text-align: right;\n",
       "    }\n",
       "</style>\n",
       "<table border=\"1\" class=\"dataframe\">\n",
       "  <thead>\n",
       "    <tr style=\"text-align: right;\">\n",
       "      <th></th>\n",
       "      <th>question</th>\n",
       "      <th>answer</th>\n",
       "      <th>partners_personnel_selected</th>\n",
       "    </tr>\n",
       "  </thead>\n",
       "  <tbody>\n",
       "    <tr>\n",
       "      <th>0</th>\n",
       "      <td>Checking the financial stability of our suppli...</td>\n",
       "      <td>Our fiscal year begins in January and ends in ...</td>\n",
       "      <td>0</td>\n",
       "    </tr>\n",
       "    <tr>\n",
       "      <th>1</th>\n",
       "      <td>How many candidates do you have in your database?</td>\n",
       "      <td>As of today, 4/25/2023, we have the following:...</td>\n",
       "      <td>0</td>\n",
       "    </tr>\n",
       "    <tr>\n",
       "      <th>2</th>\n",
       "      <td>How do you select which candidates are placed ...</td>\n",
       "      <td>Our specialized role known as the client speci...</td>\n",
       "      <td>0</td>\n",
       "    </tr>\n",
       "    <tr>\n",
       "      <th>3</th>\n",
       "      <td>How often do you review and refresh your datab...</td>\n",
       "      <td>Our sourcing platform is updated throughout th...</td>\n",
       "      <td>0</td>\n",
       "    </tr>\n",
       "    <tr>\n",
       "      <th>4</th>\n",
       "      <td>What type of background and drug testing do yo...</td>\n",
       "      <td>AccuSource is our service provider for backgro...</td>\n",
       "      <td>0</td>\n",
       "    </tr>\n",
       "  </tbody>\n",
       "</table>\n",
       "</div>"
      ],
      "text/plain": [
       "                                            question  \\\n",
       "0  Checking the financial stability of our suppli...   \n",
       "1  How many candidates do you have in your database?   \n",
       "2  How do you select which candidates are placed ...   \n",
       "3  How often do you review and refresh your datab...   \n",
       "4  What type of background and drug testing do yo...   \n",
       "\n",
       "                                              answer  \\\n",
       "0  Our fiscal year begins in January and ends in ...   \n",
       "1  As of today, 4/25/2023, we have the following:...   \n",
       "2  Our specialized role known as the client speci...   \n",
       "3  Our sourcing platform is updated throughout th...   \n",
       "4  AccuSource is our service provider for backgro...   \n",
       "\n",
       "   partners_personnel_selected  \n",
       "0                            0  \n",
       "1                            0  \n",
       "2                            0  \n",
       "3                            0  \n",
       "4                            0  "
      ]
     },
     "execution_count": 11,
     "metadata": {},
     "output_type": "execute_result"
    }
   ],
   "source": [
    "df.head()"
   ]
  },
  {
   "cell_type": "markdown",
   "metadata": {},
   "source": [
    "Number of questions"
   ]
  },
  {
   "cell_type": "code",
   "execution_count": 12,
   "metadata": {},
   "outputs": [
    {
     "data": {
      "text/plain": [
       "(168, 3)"
      ]
     },
     "execution_count": 12,
     "metadata": {},
     "output_type": "execute_result"
    }
   ],
   "source": [
    "df.shape"
   ]
  },
  {
   "cell_type": "markdown",
   "metadata": {},
   "source": [
    "Question length (character and word count)"
   ]
  },
  {
   "cell_type": "code",
   "execution_count": 13,
   "metadata": {},
   "outputs": [],
   "source": [
    "df[\"question_length\"] = df[\"question\"].apply(len)\n",
    "df[\"question_wordcount\"] = df[\"question\"].apply(lambda x: len(x.split(\" \")))"
   ]
  },
  {
   "cell_type": "code",
   "execution_count": 17,
   "metadata": {},
   "outputs": [
    {
     "data": {
      "image/png": "[encoded data removed]",
      "text/plain": [
       "<Figure size 640x480 with 1 Axes>"
      ]
     },
     "metadata": {},
     "output_type": "display_data"
    },
    {
     "data": {
      "text/plain": [
       "count    168.000000\n",
       "mean     140.869048\n",
       "std       91.372539\n",
       "min        7.000000\n",
       "25%       91.500000\n",
       "50%      123.000000\n",
       "75%      163.750000\n",
       "max      735.000000\n",
       "Name: question_length, dtype: float64"
      ]
     },
     "execution_count": 17,
     "metadata": {},
     "output_type": "execute_result"
    }
   ],
   "source": [
    "df[\"question_length\"].hist(bins=30)\n",
    "plt.xlabel(\"character count\")\n",
    "plt.ylabel(\"n instances\")\n",
    "plt.show()\n",
    "df[\"question_length\"].describe()"
   ]
  },
  {
   "cell_type": "code",
   "execution_count": 28,
   "metadata": {},
   "outputs": [
    {
     "data": {
      "image/png": "[encoded data removed]",
      "text/plain": [
       "<Figure size 640x480 with 1 Axes>"
      ]
     },
     "metadata": {},
     "output_type": "display_data"
    },
    {
     "data": {
      "text/plain": [
       "count    168.000000\n",
       "mean      21.059524\n",
       "std       13.481725\n",
       "min        1.000000\n",
       "25%       14.000000\n",
       "50%       18.000000\n",
       "75%       25.000000\n",
       "max      102.000000\n",
       "Name: question_wordcount, dtype: float64"
      ]
     },
     "execution_count": 28,
     "metadata": {},
     "output_type": "execute_result"
    }
   ],
   "source": [
    "df[\"question_wordcount\"].hist(bins=20)\n",
    "plt.xlabel(\"wordcount\")\n",
    "plt.ylabel(\"n instances\")\n",
    "plt.show()\n",
    "df[\"question_wordcount\"].describe()"
   ]
  },
  {
   "cell_type": "markdown",
   "metadata": {},
   "source": [
    "Bundled question distribution"
   ]
  },
  {
   "cell_type": "code",
   "execution_count": 32,
   "metadata": {},
   "outputs": [
    {
     "data": {
      "image/png": "[encoded data removed]",
      "text/plain": [
       "<Figure size 640x480 with 1 Axes>"
      ]
     },
     "metadata": {},
     "output_type": "display_data"
    },
    {
     "data": {
      "text/plain": [
       "count    168.000000\n",
       "mean       1.095238\n",
       "std        0.694185\n",
       "min        0.000000\n",
       "25%        1.000000\n",
       "50%        1.000000\n",
       "75%        1.000000\n",
       "max        6.000000\n",
       "Name: n_bundled_questions, dtype: float64"
      ]
     },
     "execution_count": 32,
     "metadata": {},
     "output_type": "execute_result"
    }
   ],
   "source": [
    "df[\"n_bundled_questions\"] = df[\"question\"].apply(lambda x: x.count(\"?\"))\n",
    "df[\"n_bundled_questions\"].hist(bins=6)\n",
    "plt.xlabel(\"n question marks\")\n",
    "plt.ylabel(\"n instances\")\n",
    "plt.show()\n",
    "df[\"n_bundled_questions\"].describe()"
   ]
  },
  {
   "cell_type": "markdown",
   "metadata": {},
   "source": [
    "# Topic Modeling\n",
    "\n",
    "Uses LDA according to the following article: https://towardsdatascience.com/end-to-end-topic-modeling-in-python-latent-dirichlet-allocation-lda-35ce4ed6b3e0"
   ]
  },
  {
   "cell_type": "code",
   "execution_count": null,
   "metadata": {},
   "outputs": [],
   "source": [
    "df_lda = df.copy()"
   ]
  },
  {
   "cell_type": "code",
   "execution_count": null,
   "metadata": {},
   "outputs": [],
   "source": []
  },
  {
   "cell_type": "markdown",
   "metadata": {},
   "source": [
    "# bertopic"
   ]
  },
  {
   "cell_type": "code",
   "execution_count": null,
   "metadata": {},
   "outputs": [],
   "source": [
    "questions = [q.text for q in db.get_questions()]"
   ]
  },
  {
   "cell_type": "code",
   "execution_count": null,
   "metadata": {},
   "outputs": [
    {
     "data": {
      "text/plain": [
       "['Checking the financial stability of our suppliers is part of our due diligence process. To support us in doing this, please tell us when your company financial year runs to and from.',\n",
       " 'How many candidates do you have in your database?',\n",
       " 'How do you select which candidates are placed where?  For instance, if two buyers are looking for the same candidate, how do you ultimately determine which company to place that employee with?',\n",
       " 'How often do you review and refresh your database of candidates?',\n",
       " 'What type of background and drug testing do you conduct?  How extensive are they? Who is your service provider for background checking?']"
      ]
     },
     "execution_count": 4,
     "metadata": {},
     "output_type": "execute_result"
    }
   ],
   "source": [
    "questions[:5]"
   ]
  },
  {
   "cell_type": "code",
   "execution_count": null,
   "metadata": {},
   "outputs": [],
   "source": [
    "# Fine-tune topic representations with GPT\n",
    "representation_model = KeyBERTInspired()\n",
    "topic_model = BERTopic(representation_model=representation_model)\n",
    "topics, probs = topic_model.fit_transform(questions)"
   ]
  },
  {
   "cell_type": "code",
   "execution_count": null,
   "metadata": {},
   "outputs": [
    {
     "data": {
      "text/html": [
       "<div>\n",
       "<style scoped>\n",
       "    .dataframe tbody tr th:only-of-type {\n",
       "        vertical-align: middle;\n",
       "    }\n",
       "\n",
       "    .dataframe tbody tr th {\n",
       "        vertical-align: top;\n",
       "    }\n",
       "\n",
       "    .dataframe thead th {\n",
       "        text-align: right;\n",
       "    }\n",
       "</style>\n",
       "<table border=\"1\" class=\"dataframe\">\n",
       "  <thead>\n",
       "    <tr style=\"text-align: right;\">\n",
       "      <th></th>\n",
       "      <th>Topic</th>\n",
       "      <th>Count</th>\n",
       "      <th>Name</th>\n",
       "      <th>Representation</th>\n",
       "      <th>Representative_Docs</th>\n",
       "    </tr>\n",
       "  </thead>\n",
       "  <tbody>\n",
       "    <tr>\n",
       "      <th>0</th>\n",
       "      <td>-1</td>\n",
       "      <td>82</td>\n",
       "      <td>-1_Document management and security processes</td>\n",
       "      <td>[Document management and security processes]</td>\n",
       "      <td>[is there formal user registration process inc...</td>\n",
       "    </tr>\n",
       "    <tr>\n",
       "      <th>1</th>\n",
       "      <td>0</td>\n",
       "      <td>30</td>\n",
       "      <td>0_Security and Data Privacy Policies and Proce...</td>\n",
       "      <td>[Security and Data Privacy Policies and Proces...</td>\n",
       "      <td>[Is there a formal and well defined security a...</td>\n",
       "    </tr>\n",
       "    <tr>\n",
       "      <th>2</th>\n",
       "      <td>1</td>\n",
       "      <td>24</td>\n",
       "      <td>1_On-site coordinators, turnover rate, fill ra...</td>\n",
       "      <td>[On-site coordinators, turnover rate, fill rat...</td>\n",
       "      <td>[If you were a provider of ours last season wh...</td>\n",
       "    </tr>\n",
       "    <tr>\n",
       "      <th>3</th>\n",
       "      <td>2</td>\n",
       "      <td>18</td>\n",
       "      <td>2_Data Security and Access Controls in Segra O...</td>\n",
       "      <td>[Data Security and Access Controls in Segra Or...</td>\n",
       "      <td>[Is there remote access to the network and sys...</td>\n",
       "    </tr>\n",
       "    <tr>\n",
       "      <th>4</th>\n",
       "      <td>3</td>\n",
       "      <td>14</td>\n",
       "      <td>3_Access Control and User Authorization in Sec...</td>\n",
       "      <td>[Access Control and User Authorization in Secu...</td>\n",
       "      <td>[Are critical system files and folders protect...</td>\n",
       "    </tr>\n",
       "  </tbody>\n",
       "</table>\n",
       "</div>"
      ],
      "text/plain": [
       "   Topic  Count                                               Name  \\\n",
       "0     -1     82      -1_Document management and security processes   \n",
       "1      0     30  0_Security and Data Privacy Policies and Proce...   \n",
       "2      1     24  1_On-site coordinators, turnover rate, fill ra...   \n",
       "3      2     18  2_Data Security and Access Controls in Segra O...   \n",
       "4      3     14  3_Access Control and User Authorization in Sec...   \n",
       "\n",
       "                                      Representation  \\\n",
       "0       [Document management and security processes]   \n",
       "1  [Security and Data Privacy Policies and Proces...   \n",
       "2  [On-site coordinators, turnover rate, fill rat...   \n",
       "3  [Data Security and Access Controls in Segra Or...   \n",
       "4  [Access Control and User Authorization in Secu...   \n",
       "\n",
       "                                 Representative_Docs  \n",
       "0  [is there formal user registration process inc...  \n",
       "1  [Is there a formal and well defined security a...  \n",
       "2  [If you were a provider of ours last season wh...  \n",
       "3  [Is there remote access to the network and sys...  \n",
       "4  [Are critical system files and folders protect...  "
      ]
     },
     "execution_count": 6,
     "metadata": {},
     "output_type": "execute_result"
    }
   ],
   "source": [
    "topic_model.get_topic_info()"
   ]
  },
  {
   "cell_type": "code",
   "execution_count": null,
   "metadata": {},
   "outputs": [
    {
     "name": "stdout",
     "output_type": "stream",
     "text": [
      "-1_Document management and security processes 82\n",
      "\t-is there formal user registration process include using unique user IDÕs so that users can be linked to and made responsible for their actions and the use of group IDÕs should only be permitted where they are suitable for the work carried out. Please explain\n",
      "\t-Is there a process in place to ensure all employees and external users return the organization's assets on termination of their employment, contract or agreement?\n",
      "\t-Is there procedures in place for handling secure disposal and or return of the customer data upon request or in the case of termination of services? Please explain\n",
      "\n",
      "0_Security and Data Privacy Policies and Processes 30\n",
      "\t-Is there a formal and well defined security and privacy related reporting process to Management and oversight groups? If yes, please explain the process?\n",
      "\t-Is  a regulatory data privacy and data security compliance assessment against the applicable global and domestic data privacy and data security related regulations performed regularly? If Yes, what is the current status of the compliance assessment noted above? Please provide evidence\n",
      "\t-Is a formally documented data privacy policy/standard in place covering collection, use, retention, disposal and security of personal information which is reviewed on a periodic basis at least annually and communicated to all the relevant stakeholders? Please provide copy of data privacy and Information security policies\n",
      "\n",
      "1_On-site coordinators, turnover rate, fill rate for critical and non-critical roles, last season's performance 24\n",
      "\t-If you were a provider of ours last season what was your turnover rate?  If you did not provide labor to us last season what is your average turnover rate?\n",
      "\t-If you were a provider of ours last season what was your monthly fill rate % of the requisitions you were given for non critical roles?\n",
      "(Critical Roles: Forklift, QA Inspector and Machine Operators)\n",
      "\t-If you were a provider of ours last season what was your monthly fill rate % of the requisitions you were given for critical roles by position?\n",
      "(Critical Roles: Forklift, QA Inspector and Machine Operators)\n",
      "\n",
      "2_Data Security and Access Controls in Segra Organization 18\n",
      "\t-Is there remote access to the network and systems hosting Segra data? If yes, describe the security protocols (e.g., multi-factor authentication) used to secure external access and remote authentication to Segra data and other internal organization technology assets.\n",
      "\t-Is the network used for providing service to Segra, logically and physically segregated i.e. Environment at the service provider premises must be compartmentalized, separating it from the rest of the providerÕs environment to ensure no penetration is possible from other client environments or from the providerÕs wider network. - if vendor does not have access to Segra network then put \"N/A\"\n",
      "\t-Does your organization have a Backup, Restoration, Retention Policy or Standard that  has been approved by management, communicated to constituents and an owner to maintain and review?\n",
      "If yes, does it include:\n",
      "1.Periodic testing of restoration capability?\n",
      "2.Encryption/hashing of backups? \n",
      "3.Data destruction/sanitization of backup media content prior to media decommission or in the event of media failure?\n",
      "4.Ability to remove Segra data from all backups upon request or end of contracted services?\n",
      "5.Upon request or end of contracted services, are you able to provide attestation detailing how Segra information, including logs, metadata, etc.É have been completely removed from all hardware devices and storage media? Please explain\n",
      "\n",
      "3_Access Control and User Authorization in Secure Systems 14\n",
      "\t-Are critical system files and folders protected with requisite permissions? i.e. Access to critical system files/folders should be allowed only to essential authorized users as improper configuration could result in system compromise.\n",
      "\t-Is two factor authentication required to access the production environment containing sensitive services, functions, and environments? \n",
      "(Ex: VPN/Remote access, Priveleged system access,  Data access)\n",
      "\t-Are controls in place to ensure users only have access to the network resources they have been specially authorised to use and are required for their duties?\n",
      "\n"
     ]
    }
   ],
   "source": [
    "for _, row in topic_model.get_topic_info().iterrows():\n",
    "    print(row[\"Name\"], row[\"Count\"])\n",
    "    for doc in row[\"Representative_Docs\"]:\n",
    "        print(f\"\\t-{doc.strip()}\")\n",
    "    print()"
   ]
  }
 ],
 "metadata": {
  "kernelspec": {
   "display_name": ".venv",
   "language": "python",
   "name": "python3"
  },
  "language_info": {
   "codemirror_mode": {
    "name": "ipython",
    "version": 3
   },
   "file_extension": ".py",
   "mimetype": "text/x-python",
   "name": "python",
   "nbconvert_exporter": "python",
   "pygments_lexer": "ipython3",
   "version": "3.11.6"
  }
 },
 "nbformat": 4,
 "nbformat_minor": 2
}
