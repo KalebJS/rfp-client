{
 "cells": [
  {
   "cell_type": "code",
   "execution_count": 5,
   "metadata": {},
   "outputs": [],
   "source": [
    "import pandas\n",
    "from libraries.db import DatabaseProxy"
   ]
  },
  {
   "cell_type": "code",
   "execution_count": 6,
   "metadata": {},
   "outputs": [],
   "source": [
    "db = DatabaseProxy()\n",
    "questions = db.get_questions()\n",
    "questions = [q.dict() for q in questions]\n",
    "df_questions = pandas.DataFrame(questions)"
   ]
  },
  {
   "cell_type": "code",
   "execution_count": 7,
   "metadata": {},
   "outputs": [],
   "source": [
    "answers = db.get_answers()\n",
    "answers = [a.dict() for a in answers]\n",
    "df_answers = pandas.DataFrame(answers)"
   ]
  },
  {
   "cell_type": "code",
   "execution_count": 8,
   "metadata": {},
   "outputs": [],
   "source": [
    "# combine as different sheets in excel\n",
    "with pandas.ExcelWriter(\"output/export.xlsx\") as writer:\n",
    "    df_questions.to_excel(writer, sheet_name=\"questions\", index=False)\n",
    "    df_answers.to_excel(writer, sheet_name=\"answers\", index=False)"
   ]
  }
 ],
 "metadata": {
  "kernelspec": {
   "display_name": ".venv",
   "language": "python",
   "name": "python3"
  },
  "language_info": {
   "codemirror_mode": {
    "name": "ipython",
    "version": 3
   },
   "file_extension": ".py",
   "mimetype": "text/x-python",
   "name": "python",
   "nbconvert_exporter": "python",
   "pygments_lexer": "ipython3",
   "version": "3.11.6"
  }
 },
 "nbformat": 4,
 "nbformat_minor": 2
}
