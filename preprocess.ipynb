{
 "cells": [
  {
   "cell_type": "code",
   "execution_count": 108,
   "metadata": {},
   "outputs": [
    {
     "data": {
      "text/html": [
       "<div>\n",
       "<style scoped>\n",
       "    .dataframe tbody tr th:only-of-type {\n",
       "        vertical-align: middle;\n",
       "    }\n",
       "\n",
       "    .dataframe tbody tr th {\n",
       "        vertical-align: top;\n",
       "    }\n",
       "\n",
       "    .dataframe thead th {\n",
       "        text-align: right;\n",
       "    }\n",
       "</style>\n",
       "<table border=\"1\" class=\"dataframe\">\n",
       "  <thead>\n",
       "    <tr style=\"text-align: right;\">\n",
       "      <th></th>\n",
       "      <th>question</th>\n",
       "      <th>answer</th>\n",
       "      <th>partners_personnel_selected</th>\n",
       "    </tr>\n",
       "  </thead>\n",
       "  <tbody>\n",
       "    <tr>\n",
       "      <th>0</th>\n",
       "      <td>Checking the financial stability of our suppli...</td>\n",
       "      <td>Our fiscal year begins in January and ends in ...</td>\n",
       "      <td>0</td>\n",
       "    </tr>\n",
       "    <tr>\n",
       "      <th>1</th>\n",
       "      <td>How many candidates do you have in your database?</td>\n",
       "      <td>As of today, 4/25/2023, we have the following:...</td>\n",
       "      <td>0</td>\n",
       "    </tr>\n",
       "    <tr>\n",
       "      <th>2</th>\n",
       "      <td>How do you select which candidates are placed ...</td>\n",
       "      <td>Our specialized role known as the client speci...</td>\n",
       "      <td>0</td>\n",
       "    </tr>\n",
       "    <tr>\n",
       "      <th>3</th>\n",
       "      <td>How often do you review and refresh your datab...</td>\n",
       "      <td>Our sourcing platform is updated throughout th...</td>\n",
       "      <td>0</td>\n",
       "    </tr>\n",
       "    <tr>\n",
       "      <th>4</th>\n",
       "      <td>What type of background and drug testing do yo...</td>\n",
       "      <td>AccuSource is our service provider for backgro...</td>\n",
       "      <td>0</td>\n",
       "    </tr>\n",
       "  </tbody>\n",
       "</table>\n",
       "</div>"
      ],
      "text/plain": [
       "                                            question  \\\n",
       "0  Checking the financial stability of our suppli...   \n",
       "1  How many candidates do you have in your database?   \n",
       "2  How do you select which candidates are placed ...   \n",
       "3  How often do you review and refresh your datab...   \n",
       "4  What type of background and drug testing do yo...   \n",
       "\n",
       "                                              answer  \\\n",
       "0  Our fiscal year begins in January and ends in ...   \n",
       "1  As of today, 4/25/2023, we have the following:...   \n",
       "2  Our specialized role known as the client speci...   \n",
       "3  Our sourcing platform is updated throughout th...   \n",
       "4  AccuSource is our service provider for backgro...   \n",
       "\n",
       "  partners_personnel_selected  \n",
       "0                           0  \n",
       "1                           0  \n",
       "2                           0  \n",
       "3                           0  \n",
       "4                           0  "
      ]
     },
     "execution_count": 108,
     "metadata": {},
     "output_type": "execute_result"
    }
   ],
   "source": [
    "import pandas as pd\n",
    "\n",
    "\n",
    "df = pd.read_csv(\"input/qa-pairs.csv\", encoding=\"latin-1\", dtype=\"str\")\n",
    "df.head()"
   ]
  },
  {
   "cell_type": "code",
   "execution_count": 109,
   "metadata": {},
   "outputs": [],
   "source": [
    "df_iterator = df.iterrows()"
   ]
  },
  {
   "cell_type": "code",
   "execution_count": 110,
   "metadata": {},
   "outputs": [],
   "source": [
    "import re\n",
    "\n",
    "non_alphanumeric = set()\n",
    "pattern = r\"[^a-zA-Z0-9 `~!@#$%^&*()\\-_=+\\[\\]{}\\\\|;:'\\\",<.>/?\\t\\n]\"\n",
    "\n",
    "# get all non-alphanumeric characters in the questions and answers\n",
    "for index, row in df_iterator:\n",
    "    question = row[\"question\"]\n",
    "    answer = str(row[\"answer\"])\n",
    "    if result := re.findall(pattern, answer):\n",
    "        print(result)\n",
    "        break\n",
    "    non_alphanumeric.update(set(re.findall(pattern, question)))"
   ]
  },
  {
   "cell_type": "code",
   "execution_count": 111,
   "metadata": {},
   "outputs": [
    {
     "name": "stdout",
     "output_type": "stream",
     "text": [
      "An associate employee of Partners Personnel is supported by a designated Recruiting Specialist who will develop a thorough understanding of the associate's background, skills, interests, career objectives and life logistics. The Recruiting Specialist will leverage that understanding of the associate to partner with the Account Manager, the Client Specialists and the Branch Manager on our team to ensure we place the associate to work at clients and assignments where they are optimally matched, and to guarantee they received the highest level of communication and service.  The Recruiting Specialist's focus is to formulate as many recruiting relationships as possible with community, business and network organizations and to leverage associate referrals and recruiting job boards and advertising. This ensures that Partners Personnel is in contact with as many qualified people as possible.\n"
     ]
    }
   ],
   "source": [
    "print(row.answer)"
   ]
  },
  {
   "cell_type": "code",
   "execution_count": 112,
   "metadata": {},
   "outputs": [
    {
     "data": {
      "text/plain": [
       "set()"
      ]
     },
     "execution_count": 112,
     "metadata": {},
     "output_type": "execute_result"
    }
   ],
   "source": [
    "non_alphanumeric"
   ]
  },
  {
   "cell_type": "code",
   "execution_count": 113,
   "metadata": {},
   "outputs": [],
   "source": [
    "mapping = {\"¥\": \"-\", \"É\": \"...\", \"Ð\": \"—\", \"Ñ\": \"—\", \"Ò\": '\"', \"Ó\": '\"', \"Õ\": \"'\"}\n",
    "\n",
    "\n",
    "def replace_non_alphanumeric(text):\n",
    "    text = str(text)\n",
    "    for key, value in mapping.items():\n",
    "        text = text.replace(key, value)\n",
    "    return text\n",
    "\n",
    "\n",
    "df[\"question\"] = df[\"question\"].apply(replace_non_alphanumeric)\n",
    "df[\"answer\"] = df[\"answer\"].apply(replace_non_alphanumeric)"
   ]
  }
 ],
 "metadata": {
  "kernelspec": {
   "display_name": ".venv",
   "language": "python",
   "name": "python3"
  },
  "language_info": {
   "codemirror_mode": {
    "name": "ipython",
    "version": 3
   },
   "file_extension": ".py",
   "mimetype": "text/x-python",
   "name": "python",
   "nbconvert_exporter": "python",
   "pygments_lexer": "ipython3",
   "version": "3.11.7"
  }
 },
 "nbformat": 4,
 "nbformat_minor": 2
}
