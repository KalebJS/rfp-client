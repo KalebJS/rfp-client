{
 "cells": [
  {
   "cell_type": "code",
   "execution_count": null,
   "metadata": {},
   "outputs": [],
   "source": [
    "import pandas as pd\n",
    "\n",
    "\n",
    "df = pd.read_csv(\"input/50qa-pairs.csv\", encoding=\"latin-1\", dtype=\"str\")\n",
    "df.head()"
   ]
  },
  {
   "cell_type": "code",
   "execution_count": null,
   "metadata": {},
   "outputs": [],
   "source": [
    "non_alphanumeric = set()\n",
    "pattern = r\"[^a-zA-Z0-9\\s]\"\n",
    "\n",
    "# get all non-alphanumeric characters in the questions and answers\n",
    "for index, row in df.iterrows():\n",
    "    question = row[\"question\"]\n",
    "    answer = str(row[\"answer\"])\n",
    "    non_alphanumeric.update(set(re.findall(pattern, question)))\n",
    "    non_alphanumeric.update(set(re.findall(pattern, answer)))"
   ]
  },
  {
   "cell_type": "code",
   "execution_count": null,
   "metadata": {},
   "outputs": [],
   "source": [
    "non_alphanumeric"
   ]
  },
  {
   "cell_type": "code",
   "execution_count": null,
   "metadata": {},
   "outputs": [],
   "source": [
    "mapping = {\"¥\": \"-\", \"É\": \"...\", \"Ð\": \"—\", \"Ñ\": \"—\", \"Ò\": '\"', \"Ó\": '\"', \"Õ\": \"'\"}\n",
    "\n",
    "\n",
    "def replace_non_alphanumeric(text):\n",
    "    text = str(text)\n",
    "    for key, value in mapping.items():\n",
    "        text = text.replace(key, value)\n",
    "    return text\n",
    "\n",
    "\n",
    "df[\"question\"] = df[\"question\"].apply(replace_non_alphanumeric)\n",
    "df[\"answer\"] = df[\"answer\"].apply(replace_non_alphanumeric)"
   ]
  }
 ],
 "metadata": {
  "language_info": {
   "name": "python"
  }
 },
 "nbformat": 4,
 "nbformat_minor": 2
}
