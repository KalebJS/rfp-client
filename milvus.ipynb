{
 "cells": [
  {
   "cell_type": "markdown",
   "metadata": {},
   "source": [
    "Make connection"
   ]
  },
  {
   "cell_type": "code",
   "execution_count": 1,
   "metadata": {},
   "outputs": [],
   "source": [
    "from pymilvus import connections\n",
    "\n",
    "connections.connect(alias=\"default\", user=\"username\", password=\"password\", host=\"localhost\", port=\"19530\")"
   ]
  },
  {
   "cell_type": "markdown",
   "metadata": {},
   "source": [
    "Create collection"
   ]
  },
  {
   "cell_type": "code",
   "execution_count": 27,
   "metadata": {},
   "outputs": [],
   "source": [
    "from pymilvus import CollectionSchema, FieldSchema, DataType\n",
    "\n",
    "question_id = FieldSchema(\n",
    "    name=\"book_id\",\n",
    "    dtype=DataType.INT64,\n",
    "    is_primary=True,\n",
    ")\n",
    "is_active = FieldSchema(\n",
    "    name=\"book_name\",\n",
    "    dtype=DataType.VARCHAR,\n",
    "    max_length=200,\n",
    "    # The default value will be used if this field is left empty during data inserts or upserts.\n",
    "    # The data type of `default_value` must be the same as that specified in `dtype`.\n",
    "    default_value=\"Unknown\",\n",
    ")\n",
    "text = FieldSchema(\n",
    "    name=\"word_count\",\n",
    "    dtype=DataType.INT64,\n",
    "    # The default value will be used if this field is left empty during data inserts or upserts.\n",
    "    # The data type of `default_value` must be the same as that specified in `dtype`.\n",
    "    default_value=9999,\n",
    ")\n",
    "text_embedding = FieldSchema(name=\"book_intro\", dtype=DataType.FLOAT_VECTOR, dim=2)\n",
    "schema = CollectionSchema(\n",
    "    fields=[question_id, is_active, text, text_embedding], description=\"Test book search\", enable_dynamic_field=True\n",
    ")\n",
    "collection_name = \"book\""
   ]
  },
  {
   "cell_type": "code",
   "execution_count": 28,
   "metadata": {},
   "outputs": [
    {
     "data": {
      "text/plain": [
       "{'auto_id': False, 'description': 'Test book search', 'fields': [{'name': 'book_id', 'description': '', 'type': <DataType.INT64: 5>, 'is_primary': True, 'auto_id': False}, {'name': 'book_name', 'description': '', 'type': <DataType.VARCHAR: 21>, 'params': {'max_length': 200}}, {'name': 'word_count', 'description': '', 'type': <DataType.INT64: 5>}, {'name': 'book_intro', 'description': '', 'type': <DataType.FLOAT_VECTOR: 101>, 'params': {'dim': 2}}], 'enable_dynamic_field': True}"
      ]
     },
     "execution_count": 28,
     "metadata": {},
     "output_type": "execute_result"
    }
   ],
   "source": [
    "schema"
   ]
  },
  {
   "cell_type": "code",
   "execution_count": 29,
   "metadata": {},
   "outputs": [],
   "source": [
    "from pymilvus import Collection\n",
    "\n",
    "collection = Collection(name=collection_name, schema=schema, using=\"default\", shards_num=2)"
   ]
  },
  {
   "cell_type": "markdown",
   "metadata": {},
   "source": [
    "Insert data"
   ]
  },
  {
   "cell_type": "code",
   "execution_count": 30,
   "metadata": {},
   "outputs": [
    {
     "data": {
      "text/html": [
       "<div>\n",
       "<style scoped>\n",
       "    .dataframe tbody tr th:only-of-type {\n",
       "        vertical-align: middle;\n",
       "    }\n",
       "\n",
       "    .dataframe tbody tr th {\n",
       "        vertical-align: top;\n",
       "    }\n",
       "\n",
       "    .dataframe thead th {\n",
       "        text-align: right;\n",
       "    }\n",
       "</style>\n",
       "<table border=\"1\" class=\"dataframe\">\n",
       "  <thead>\n",
       "    <tr style=\"text-align: right;\">\n",
       "      <th></th>\n",
       "      <th>book_id</th>\n",
       "      <th>book_name</th>\n",
       "      <th>word_count</th>\n",
       "      <th>book_intro</th>\n",
       "    </tr>\n",
       "  </thead>\n",
       "  <tbody>\n",
       "    <tr>\n",
       "      <th>0</th>\n",
       "      <td>1</td>\n",
       "      <td>Book 1</td>\n",
       "      <td>16445</td>\n",
       "      <td>[0.6610175950476592, 0.33421595829939765]</td>\n",
       "    </tr>\n",
       "    <tr>\n",
       "      <th>1</th>\n",
       "      <td>2</td>\n",
       "      <td>Book 2</td>\n",
       "      <td>22584</td>\n",
       "      <td>[0.37291921139878503, 0.5479297831839793]</td>\n",
       "    </tr>\n",
       "    <tr>\n",
       "      <th>2</th>\n",
       "      <td>3</td>\n",
       "      <td>Book 3</td>\n",
       "      <td>36040</td>\n",
       "      <td>[0.7954882081296476, 0.7878658744388319]</td>\n",
       "    </tr>\n",
       "    <tr>\n",
       "      <th>3</th>\n",
       "      <td>4</td>\n",
       "      <td>Book 4</td>\n",
       "      <td>11261</td>\n",
       "      <td>[0.043185331672709326, 0.3498439724490018]</td>\n",
       "    </tr>\n",
       "    <tr>\n",
       "      <th>4</th>\n",
       "      <td>5</td>\n",
       "      <td>Book 5</td>\n",
       "      <td>39583</td>\n",
       "      <td>[0.3920103206313903, 0.8601687296944729]</td>\n",
       "    </tr>\n",
       "    <tr>\n",
       "      <th>5</th>\n",
       "      <td>6</td>\n",
       "      <td>Book 6</td>\n",
       "      <td>49990</td>\n",
       "      <td>[0.4052194588885134, 0.020604779220843916]</td>\n",
       "    </tr>\n",
       "    <tr>\n",
       "      <th>6</th>\n",
       "      <td>7</td>\n",
       "      <td>Book 7</td>\n",
       "      <td>49207</td>\n",
       "      <td>[0.7060329046695322, 0.025111229204348384]</td>\n",
       "    </tr>\n",
       "    <tr>\n",
       "      <th>7</th>\n",
       "      <td>8</td>\n",
       "      <td>Book 8</td>\n",
       "      <td>12267</td>\n",
       "      <td>[0.1466704245567495, 0.5430185533989226]</td>\n",
       "    </tr>\n",
       "    <tr>\n",
       "      <th>8</th>\n",
       "      <td>9</td>\n",
       "      <td>Book 9</td>\n",
       "      <td>39384</td>\n",
       "      <td>[0.49970534419837165, 0.5237505672379067]</td>\n",
       "    </tr>\n",
       "    <tr>\n",
       "      <th>9</th>\n",
       "      <td>10</td>\n",
       "      <td>Book 10</td>\n",
       "      <td>26990</td>\n",
       "      <td>[0.5327977764660792, 0.6376041502949953]</td>\n",
       "    </tr>\n",
       "  </tbody>\n",
       "</table>\n",
       "</div>"
      ],
      "text/plain": [
       "   book_id book_name  word_count                                  book_intro\n",
       "0        1    Book 1       16445   [0.6610175950476592, 0.33421595829939765]\n",
       "1        2    Book 2       22584   [0.37291921139878503, 0.5479297831839793]\n",
       "2        3    Book 3       36040    [0.7954882081296476, 0.7878658744388319]\n",
       "3        4    Book 4       11261  [0.043185331672709326, 0.3498439724490018]\n",
       "4        5    Book 5       39583    [0.3920103206313903, 0.8601687296944729]\n",
       "5        6    Book 6       49990  [0.4052194588885134, 0.020604779220843916]\n",
       "6        7    Book 7       49207  [0.7060329046695322, 0.025111229204348384]\n",
       "7        8    Book 8       12267    [0.1466704245567495, 0.5430185533989226]\n",
       "8        9    Book 9       39384   [0.49970534419837165, 0.5237505672379067]\n",
       "9       10   Book 10       26990    [0.5327977764660792, 0.6376041502949953]"
      ]
     },
     "execution_count": 30,
     "metadata": {},
     "output_type": "execute_result"
    }
   ],
   "source": [
    "import random\n",
    "import pandas as pd\n",
    "\n",
    "data = []\n",
    "for i in range(10):\n",
    "    question_id = i + 1\n",
    "    is_active = f\"Book {question_id}\"\n",
    "    text = random.randint(10000, 50000)\n",
    "    text_embedding = [random.random() for _ in range(2)]\n",
    "    data.append([question_id, is_active, text, text_embedding])\n",
    "\n",
    "df = pd.DataFrame(data, columns=[\"book_id\", \"book_name\", \"word_count\", \"book_intro\"])\n",
    "df"
   ]
  },
  {
   "cell_type": "code",
   "execution_count": 31,
   "metadata": {},
   "outputs": [],
   "source": [
    "from pymilvus import Collection\n",
    "\n",
    "collection = Collection(\"book\")  # Get an existing collection.\n",
    "mr = collection.insert(df)"
   ]
  },
  {
   "cell_type": "markdown",
   "metadata": {},
   "source": [
    "Build an index"
   ]
  },
  {
   "cell_type": "code",
   "execution_count": 32,
   "metadata": {},
   "outputs": [],
   "source": [
    "index_params = {\"metric_type\": \"COSINE\", \"index_type\": \"FLAT\", \"params\": {\"nlist\": 1024}}"
   ]
  },
  {
   "cell_type": "code",
   "execution_count": 33,
   "metadata": {},
   "outputs": [
    {
     "data": {
      "text/plain": [
       "{'total_rows': 0, 'indexed_rows': 0, 'pending_index_rows': 0}"
      ]
     },
     "execution_count": 33,
     "metadata": {},
     "output_type": "execute_result"
    }
   ],
   "source": [
    "from pymilvus import Collection, utility\n",
    "\n",
    "collection = Collection(\"book\")\n",
    "collection.create_index(field_name=\"book_intro\", index_params=index_params)\n",
    "\n",
    "utility.index_building_progress(\"book\")"
   ]
  },
  {
   "cell_type": "markdown",
   "metadata": {},
   "source": [
    "Search and query"
   ]
  },
  {
   "cell_type": "code",
   "execution_count": 36,
   "metadata": {},
   "outputs": [],
   "source": [
    "from pymilvus import Collection\n",
    "collection = Collection(\"book\")      # Get an existing collection.\n",
    "collection.load()"
   ]
  },
  {
   "cell_type": "code",
   "execution_count": 37,
   "metadata": {},
   "outputs": [],
   "source": [
    "search_params = {\n",
    "    \"metric_type\": \"COSINE\", \n",
    "    \"offset\": 0, \n",
    "    \"ignore_growing\": False, \n",
    "    \"params\": {\"nprobe\": 4}\n",
    "}"
   ]
  },
  {
   "cell_type": "code",
   "execution_count": 40,
   "metadata": {},
   "outputs": [
    {
     "name": "stdout",
     "output_type": "stream",
     "text": [
      "[7, 5, 1, 2, 8, 10, 6, 9, 3, 4]\n",
      "[0.9995388984680176, 0.9993508458137512, 0.9951781630516052, 0.9910438656806946, 0.9800982475280762, 0.973106861114502, 0.9722944498062134, 0.9558489322662354, 0.947149932384491, 0.9424784779548645]\n"
     ]
    }
   ],
   "source": [
    "results = collection.search(\n",
    "    data=[[0.1, 0.2]], \n",
    "    anns_field=\"book_intro\", \n",
    "    # the sum of `offset` in `param` and `limit` \n",
    "    # should be less than 16384.\n",
    "    param=search_params,\n",
    "    limit=10,\n",
    "    expr=None,\n",
    "    # set the names of the fields you want to \n",
    "    # retrieve from the search result.\n",
    "    output_fields=['title'],\n",
    "    consistency_level=\"Strong\"\n",
    ")\n",
    "\n",
    "print(results[0].ids)\n",
    "\n",
    "print(results[0].distances)\n",
    "\n",
    "hit = results[0][0]\n",
    "hit.entity.get('title')"
   ]
  },
  {
   "cell_type": "code",
   "execution_count": 39,
   "metadata": {},
   "outputs": [
    {
     "data": {
      "text/plain": [
       "[\"['id: 7, distance: 0.9995388984680176, entity: {}', 'id: 5, distance: 0.9993508458137512, entity: {}', 'id: 1, distance: 0.9951781630516052, entity: {}', 'id: 2, distance: 0.9910438656806946, entity: {}', 'id: 8, distance: 0.9800982475280762, entity: {}', 'id: 10, distance: 0.973106861114502, entity: {}', 'id: 6, distance: 0.9722944498062134, entity: {}', 'id: 9, distance: 0.9558489322662354, entity: {}', 'id: 3, distance: 0.947149932384491, entity: {}', 'id: 4, distance: 0.9424784779548645, entity: {}']\"]"
      ]
     },
     "execution_count": 39,
     "metadata": {},
     "output_type": "execute_result"
    }
   ],
   "source": [
    "results"
   ]
  },
  {
   "cell_type": "markdown",
   "metadata": {},
   "source": [
    "# Live Data test"
   ]
  },
  {
   "cell_type": "code",
   "execution_count": 2,
   "metadata": {},
   "outputs": [],
   "source": [
    "from libraries.db import DatabaseProxy\n",
    "\n",
    "db = DatabaseProxy()"
   ]
  },
  {
   "cell_type": "code",
   "execution_count": 3,
   "metadata": {},
   "outputs": [],
   "source": [
    "import pandas as pd\n",
    "df_questions = pd.DataFrame([x.dict() for x in db.get_questions()])"
   ]
  },
  {
   "cell_type": "code",
   "execution_count": 4,
   "metadata": {},
   "outputs": [
    {
     "data": {
      "text/html": [
       "<div>\n",
       "<style scoped>\n",
       "    .dataframe tbody tr th:only-of-type {\n",
       "        vertical-align: middle;\n",
       "    }\n",
       "\n",
       "    .dataframe tbody tr th {\n",
       "        vertical-align: top;\n",
       "    }\n",
       "\n",
       "    .dataframe thead th {\n",
       "        text-align: right;\n",
       "    }\n",
       "</style>\n",
       "<table border=\"1\" class=\"dataframe\">\n",
       "  <thead>\n",
       "    <tr style=\"text-align: right;\">\n",
       "      <th></th>\n",
       "      <th>text</th>\n",
       "      <th>created_datetime</th>\n",
       "      <th>answer_id</th>\n",
       "      <th>modified_datetime</th>\n",
       "      <th>id</th>\n",
       "      <th>is_active</th>\n",
       "    </tr>\n",
       "  </thead>\n",
       "  <tbody>\n",
       "    <tr>\n",
       "      <th>0</th>\n",
       "      <td>How many candidates do you have in your database?</td>\n",
       "      <td>2023-11-17 22:26:43</td>\n",
       "      <td>1</td>\n",
       "      <td>2023-11-17 22:26:43</td>\n",
       "      <td>1</td>\n",
       "      <td>True</td>\n",
       "    </tr>\n",
       "    <tr>\n",
       "      <th>1</th>\n",
       "      <td>How often do you review and refresh your datab...</td>\n",
       "      <td>2023-11-17 22:26:43</td>\n",
       "      <td>2</td>\n",
       "      <td>2023-11-17 22:26:43</td>\n",
       "      <td>2</td>\n",
       "      <td>True</td>\n",
       "    </tr>\n",
       "    <tr>\n",
       "      <th>2</th>\n",
       "      <td>If you are a member of the American Staffing A...</td>\n",
       "      <td>2023-11-17 22:26:43</td>\n",
       "      <td>3</td>\n",
       "      <td>2023-11-17 22:26:43</td>\n",
       "      <td>3</td>\n",
       "      <td>True</td>\n",
       "    </tr>\n",
       "    <tr>\n",
       "      <th>3</th>\n",
       "      <td>How do you determine which employees need cove...</td>\n",
       "      <td>2023-11-17 22:26:43</td>\n",
       "      <td>4</td>\n",
       "      <td>2023-11-17 22:26:43</td>\n",
       "      <td>4</td>\n",
       "      <td>True</td>\n",
       "    </tr>\n",
       "    <tr>\n",
       "      <th>4</th>\n",
       "      <td>Can you commit to meet emergency requests and/...</td>\n",
       "      <td>2023-11-17 22:26:43</td>\n",
       "      <td>5</td>\n",
       "      <td>2023-11-17 22:26:43</td>\n",
       "      <td>5</td>\n",
       "      <td>True</td>\n",
       "    </tr>\n",
       "  </tbody>\n",
       "</table>\n",
       "</div>"
      ],
      "text/plain": [
       "                                                text    created_datetime  \\\n",
       "0  How many candidates do you have in your database? 2023-11-17 22:26:43   \n",
       "1  How often do you review and refresh your datab... 2023-11-17 22:26:43   \n",
       "2  If you are a member of the American Staffing A... 2023-11-17 22:26:43   \n",
       "3  How do you determine which employees need cove... 2023-11-17 22:26:43   \n",
       "4  Can you commit to meet emergency requests and/... 2023-11-17 22:26:43   \n",
       "\n",
       "   answer_id   modified_datetime  id  is_active  \n",
       "0          1 2023-11-17 22:26:43   1       True  \n",
       "1          2 2023-11-17 22:26:43   2       True  \n",
       "2          3 2023-11-17 22:26:43   3       True  \n",
       "3          4 2023-11-17 22:26:43   4       True  \n",
       "4          5 2023-11-17 22:26:43   5       True  "
      ]
     },
     "execution_count": 4,
     "metadata": {},
     "output_type": "execute_result"
    }
   ],
   "source": [
    "df_questions.head()"
   ]
  },
  {
   "cell_type": "code",
   "execution_count": 5,
   "metadata": {},
   "outputs": [],
   "source": [
    "from pymilvus import CollectionSchema, FieldSchema, DataType\n",
    "\n",
    "question_id = FieldSchema(\n",
    "    name=\"id\",\n",
    "    dtype=DataType.INT64,\n",
    "    is_primary=True,\n",
    ")\n",
    "is_active = FieldSchema(\n",
    "    name=\"is_active\",\n",
    "    dtype=DataType.BOOL,\n",
    "    default_value=True,\n",
    ")\n",
    "text = FieldSchema(\n",
    "    name=\"text\",\n",
    "    dtype=DataType.VARCHAR,\n",
    "    max_length=200,\n",
    ")\n",
    "answer_id = FieldSchema(\n",
    "    name=\"answer_id\",\n",
    "    dtype=DataType.INT64,\n",
    ")\n",
    "text_embedding = FieldSchema(name=\"text_embedding\", dtype=DataType.FLOAT_VECTOR, dim=768)\n",
    "schema = CollectionSchema(\n",
    "    fields=[question_id, is_active, text, text_embedding], description=\"Question search\", enable_dynamic_field=True\n",
    ")\n",
    "collection_name = \"questions\""
   ]
  },
  {
   "cell_type": "code",
   "execution_count": 6,
   "metadata": {},
   "outputs": [],
   "source": [
    "from pymilvus import Collection\n",
    "\n",
    "collection = Collection(name=collection_name, schema=schema, using=\"default\", shards_num=2)"
   ]
  },
  {
   "cell_type": "code",
   "execution_count": 12,
   "metadata": {},
   "outputs": [
    {
     "data": {
      "text/html": [
       "<div>\n",
       "<style scoped>\n",
       "    .dataframe tbody tr th:only-of-type {\n",
       "        vertical-align: middle;\n",
       "    }\n",
       "\n",
       "    .dataframe tbody tr th {\n",
       "        vertical-align: top;\n",
       "    }\n",
       "\n",
       "    .dataframe thead th {\n",
       "        text-align: right;\n",
       "    }\n",
       "</style>\n",
       "<table border=\"1\" class=\"dataframe\">\n",
       "  <thead>\n",
       "    <tr style=\"text-align: right;\">\n",
       "      <th></th>\n",
       "      <th>id</th>\n",
       "      <th>is_active</th>\n",
       "      <th>text</th>\n",
       "      <th>text_embedding</th>\n",
       "    </tr>\n",
       "  </thead>\n",
       "  <tbody>\n",
       "    <tr>\n",
       "      <th>0</th>\n",
       "      <td>1</td>\n",
       "      <td>True</td>\n",
       "      <td>How many candidates do you have in your database?</td>\n",
       "      <td>[0.00010529541, 0.04233256, -0.000552974, 0.02...</td>\n",
       "    </tr>\n",
       "    <tr>\n",
       "      <th>1</th>\n",
       "      <td>2</td>\n",
       "      <td>True</td>\n",
       "      <td>How often do you review and refresh your datab...</td>\n",
       "      <td>[0.03251252, 0.02720604, -0.003604102, -0.0293...</td>\n",
       "    </tr>\n",
       "    <tr>\n",
       "      <th>2</th>\n",
       "      <td>3</td>\n",
       "      <td>True</td>\n",
       "      <td>If you are a member of the American Staffing A...</td>\n",
       "      <td>[-0.008381026, -0.053924333, -0.015599303, -0....</td>\n",
       "    </tr>\n",
       "    <tr>\n",
       "      <th>3</th>\n",
       "      <td>4</td>\n",
       "      <td>True</td>\n",
       "      <td>How do you determine which employees need cove...</td>\n",
       "      <td>[-0.028232452, 0.03471573, -0.063788205, -0.04...</td>\n",
       "    </tr>\n",
       "    <tr>\n",
       "      <th>4</th>\n",
       "      <td>5</td>\n",
       "      <td>True</td>\n",
       "      <td>Can you commit to meet emergency requests and/...</td>\n",
       "      <td>[0.024323737, 0.03332235, 0.010314984, -0.0313...</td>\n",
       "    </tr>\n",
       "  </tbody>\n",
       "</table>\n",
       "</div>"
      ],
      "text/plain": [
       "   id  is_active                                               text  \\\n",
       "0   1       True  How many candidates do you have in your database?   \n",
       "1   2       True  How often do you review and refresh your datab...   \n",
       "2   3       True  If you are a member of the American Staffing A...   \n",
       "3   4       True  How do you determine which employees need cove...   \n",
       "4   5       True  Can you commit to meet emergency requests and/...   \n",
       "\n",
       "                                      text_embedding  \n",
       "0  [0.00010529541, 0.04233256, -0.000552974, 0.02...  \n",
       "1  [0.03251252, 0.02720604, -0.003604102, -0.0293...  \n",
       "2  [-0.008381026, -0.053924333, -0.015599303, -0....  \n",
       "3  [-0.028232452, 0.03471573, -0.063788205, -0.04...  \n",
       "4  [0.024323737, 0.03332235, 0.010314984, -0.0313...  "
      ]
     },
     "execution_count": 12,
     "metadata": {},
     "output_type": "execute_result"
    }
   ],
   "source": [
    "from sentence_transformers import SentenceTransformer\n",
    "from tqdm import tqdm\n",
    "\n",
    "model = SentenceTransformer('all-mpnet-base-v2')\n",
    "df_questions['text_embedding'] = df_questions['text'].apply(lambda x: model.encode(x))\n",
    "df = df_questions[['id', 'is_active', 'text', 'text_embedding']]\n",
    "\n",
    "df.head()"
   ]
  },
  {
   "cell_type": "code",
   "execution_count": 13,
   "metadata": {},
   "outputs": [],
   "source": [
    "from pymilvus import Collection\n",
    "\n",
    "collection = Collection(\"questions\")  # Get an existing collection.\n",
    "mr = collection.insert(df)"
   ]
  },
  {
   "cell_type": "code",
   "execution_count": 16,
   "metadata": {},
   "outputs": [
    {
     "data": {
      "text/plain": [
       "{'total_rows': 0, 'indexed_rows': 0, 'pending_index_rows': 0}"
      ]
     },
     "execution_count": 16,
     "metadata": {},
     "output_type": "execute_result"
    }
   ],
   "source": [
    "from pymilvus import Collection, utility\n",
    "\n",
    "collection = Collection(\"questions\")\n",
    "index_params = {\"metric_type\": \"COSINE\", \"index_type\": \"FLAT\"}\n",
    "collection.create_index(field_name=\"text_embedding\", index_params=index_params)\n",
    "\n",
    "utility.index_building_progress(\"questions\")"
   ]
  },
  {
   "cell_type": "code",
   "execution_count": 17,
   "metadata": {},
   "outputs": [],
   "source": [
    "from pymilvus import Collection\n",
    "collection = Collection(\"questions\")      # Get an existing collection.\n",
    "collection.load()"
   ]
  },
  {
   "cell_type": "code",
   "execution_count": 18,
   "metadata": {},
   "outputs": [],
   "source": [
    "search_params = {\n",
    "    \"metric_type\": \"COSINE\", \n",
    "    \"offset\": 0, \n",
    "    \"ignore_growing\": False,\n",
    "}"
   ]
  },
  {
   "cell_type": "code",
   "execution_count": 24,
   "metadata": {},
   "outputs": [
    {
     "name": "stdout",
     "output_type": "stream",
     "text": [
      "222 0.569279134273529 Is Information Security training provided during the onboarding process?\n",
      "283 0.42136088013648987 What steps do you take to create a positive and supportive work environment that encourages employee retention?\n",
      "272 0.41971057653427124 Could you provide details on the screening criteria and methodology employed by your company?\n",
      "292 0.4142124056816101 Could you provide the most recent satisfaction rating for the employees you've successfully placed?\n",
      "277 0.41409480571746826 Could you elaborate on the screening procedures your firm implements beyond employment verification and background checks?\n",
      "63 0.4103649854660034 If your organization is a part of the American Staffing Association, what certifications have you obtained?\n",
      "47 0.4060264825820923 What action or steps do you implement to retain employees throughout the season?\n",
      "225 0.40031564235687256 Do you incorporate Information Security training into your orientation for new hires?\n",
      "77 0.39718738198280334 How many employees does your company currently have, and could you give us a brief overview of your history?\n",
      "3 0.3970568776130676 If you are a member of the American Staffing Association, what certifications do you hold?\n"
     ]
    },
    {
     "data": {
      "text/plain": [
       "'Is Information Security training provided during the onboarding process?'"
      ]
     },
     "execution_count": 24,
     "metadata": {},
     "output_type": "execute_result"
    }
   ],
   "source": [
    "query = \"What is the onboarding process like?\"\n",
    "vector = model.encode(query)\n",
    "\n",
    "results = collection.search(\n",
    "    data=[vector],\n",
    "    anns_field=\"text_embedding\", \n",
    "    # the sum of `offset` in `param` and `limit` \n",
    "    # should be less than 16384.\n",
    "    param=search_params,\n",
    "    limit=10,\n",
    "    expr=None,\n",
    "    # set the names of the fields you want to \n",
    "    # retrieve from the search result.\n",
    "    output_fields=['text'],\n",
    "    consistency_level=\"Strong\"\n",
    ")\n",
    "\n",
    "for result in results[0]:\n",
    "    # id, similarity, text\n",
    "    print(result.id, result.distance, result.entity.get('text'))\n",
    "    \n",
    "hit = results[0][0]\n",
    "hit.entity.get('text')"
   ]
  }
 ],
 "metadata": {
  "kernelspec": {
   "display_name": ".venv",
   "language": "python",
   "name": "python3"
  },
  "language_info": {
   "codemirror_mode": {
    "name": "ipython",
    "version": 3
   },
   "file_extension": ".py",
   "mimetype": "text/x-python",
   "name": "python",
   "nbconvert_exporter": "python",
   "pygments_lexer": "ipython3",
   "version": "3.11.7"
  }
 },
 "nbformat": 4,
 "nbformat_minor": 2
}
