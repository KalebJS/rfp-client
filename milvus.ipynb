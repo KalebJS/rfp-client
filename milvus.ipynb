{
 "cells": [
  {
   "cell_type": "markdown",
   "metadata": {},
   "source": [
    "Make connection"
   ]
  },
  {
   "cell_type": "code",
   "execution_count": 26,
   "metadata": {},
   "outputs": [],
   "source": [
    "from pymilvus import connections\n",
    "\n",
    "connections.connect(alias=\"default\", user=\"username\", password=\"password\", host=\"localhost\", port=\"19530\")"
   ]
  },
  {
   "cell_type": "markdown",
   "metadata": {},
   "source": [
    "Create collection"
   ]
  },
  {
   "cell_type": "code",
   "execution_count": 27,
   "metadata": {},
   "outputs": [],
   "source": [
    "from pymilvus import CollectionSchema, FieldSchema, DataType\n",
    "\n",
    "book_id = FieldSchema(\n",
    "    name=\"book_id\",\n",
    "    dtype=DataType.INT64,\n",
    "    is_primary=True,\n",
    ")\n",
    "book_name = FieldSchema(\n",
    "    name=\"book_name\",\n",
    "    dtype=DataType.VARCHAR,\n",
    "    max_length=200,\n",
    "    # The default value will be used if this field is left empty during data inserts or upserts.\n",
    "    # The data type of `default_value` must be the same as that specified in `dtype`.\n",
    "    default_value=\"Unknown\",\n",
    ")\n",
    "word_count = FieldSchema(\n",
    "    name=\"word_count\",\n",
    "    dtype=DataType.INT64,\n",
    "    # The default value will be used if this field is left empty during data inserts or upserts.\n",
    "    # The data type of `default_value` must be the same as that specified in `dtype`.\n",
    "    default_value=9999,\n",
    ")\n",
    "book_intro = FieldSchema(name=\"book_intro\", dtype=DataType.FLOAT_VECTOR, dim=2)\n",
    "schema = CollectionSchema(\n",
    "    fields=[book_id, book_name, word_count, book_intro], description=\"Test book search\", enable_dynamic_field=True\n",
    ")\n",
    "collection_name = \"book\""
   ]
  },
  {
   "cell_type": "code",
   "execution_count": 28,
   "metadata": {},
   "outputs": [
    {
     "data": {
      "text/plain": [
       "{'auto_id': False, 'description': 'Test book search', 'fields': [{'name': 'book_id', 'description': '', 'type': <DataType.INT64: 5>, 'is_primary': True, 'auto_id': False}, {'name': 'book_name', 'description': '', 'type': <DataType.VARCHAR: 21>, 'params': {'max_length': 200}}, {'name': 'word_count', 'description': '', 'type': <DataType.INT64: 5>}, {'name': 'book_intro', 'description': '', 'type': <DataType.FLOAT_VECTOR: 101>, 'params': {'dim': 2}}], 'enable_dynamic_field': True}"
      ]
     },
     "execution_count": 28,
     "metadata": {},
     "output_type": "execute_result"
    }
   ],
   "source": [
    "schema"
   ]
  },
  {
   "cell_type": "code",
   "execution_count": 29,
   "metadata": {},
   "outputs": [],
   "source": [
    "from pymilvus import Collection\n",
    "\n",
    "collection = Collection(name=collection_name, schema=schema, using=\"default\", shards_num=2)"
   ]
  },
  {
   "cell_type": "markdown",
   "metadata": {},
   "source": [
    "Insert data"
   ]
  },
  {
   "cell_type": "code",
   "execution_count": 30,
   "metadata": {},
   "outputs": [
    {
     "data": {
      "text/html": [
       "<div>\n",
       "<style scoped>\n",
       "    .dataframe tbody tr th:only-of-type {\n",
       "        vertical-align: middle;\n",
       "    }\n",
       "\n",
       "    .dataframe tbody tr th {\n",
       "        vertical-align: top;\n",
       "    }\n",
       "\n",
       "    .dataframe thead th {\n",
       "        text-align: right;\n",
       "    }\n",
       "</style>\n",
       "<table border=\"1\" class=\"dataframe\">\n",
       "  <thead>\n",
       "    <tr style=\"text-align: right;\">\n",
       "      <th></th>\n",
       "      <th>book_id</th>\n",
       "      <th>book_name</th>\n",
       "      <th>word_count</th>\n",
       "      <th>book_intro</th>\n",
       "    </tr>\n",
       "  </thead>\n",
       "  <tbody>\n",
       "    <tr>\n",
       "      <th>0</th>\n",
       "      <td>1</td>\n",
       "      <td>Book 1</td>\n",
       "      <td>16445</td>\n",
       "      <td>[0.6610175950476592, 0.33421595829939765]</td>\n",
       "    </tr>\n",
       "    <tr>\n",
       "      <th>1</th>\n",
       "      <td>2</td>\n",
       "      <td>Book 2</td>\n",
       "      <td>22584</td>\n",
       "      <td>[0.37291921139878503, 0.5479297831839793]</td>\n",
       "    </tr>\n",
       "    <tr>\n",
       "      <th>2</th>\n",
       "      <td>3</td>\n",
       "      <td>Book 3</td>\n",
       "      <td>36040</td>\n",
       "      <td>[0.7954882081296476, 0.7878658744388319]</td>\n",
       "    </tr>\n",
       "    <tr>\n",
       "      <th>3</th>\n",
       "      <td>4</td>\n",
       "      <td>Book 4</td>\n",
       "      <td>11261</td>\n",
       "      <td>[0.043185331672709326, 0.3498439724490018]</td>\n",
       "    </tr>\n",
       "    <tr>\n",
       "      <th>4</th>\n",
       "      <td>5</td>\n",
       "      <td>Book 5</td>\n",
       "      <td>39583</td>\n",
       "      <td>[0.3920103206313903, 0.8601687296944729]</td>\n",
       "    </tr>\n",
       "    <tr>\n",
       "      <th>5</th>\n",
       "      <td>6</td>\n",
       "      <td>Book 6</td>\n",
       "      <td>49990</td>\n",
       "      <td>[0.4052194588885134, 0.020604779220843916]</td>\n",
       "    </tr>\n",
       "    <tr>\n",
       "      <th>6</th>\n",
       "      <td>7</td>\n",
       "      <td>Book 7</td>\n",
       "      <td>49207</td>\n",
       "      <td>[0.7060329046695322, 0.025111229204348384]</td>\n",
       "    </tr>\n",
       "    <tr>\n",
       "      <th>7</th>\n",
       "      <td>8</td>\n",
       "      <td>Book 8</td>\n",
       "      <td>12267</td>\n",
       "      <td>[0.1466704245567495, 0.5430185533989226]</td>\n",
       "    </tr>\n",
       "    <tr>\n",
       "      <th>8</th>\n",
       "      <td>9</td>\n",
       "      <td>Book 9</td>\n",
       "      <td>39384</td>\n",
       "      <td>[0.49970534419837165, 0.5237505672379067]</td>\n",
       "    </tr>\n",
       "    <tr>\n",
       "      <th>9</th>\n",
       "      <td>10</td>\n",
       "      <td>Book 10</td>\n",
       "      <td>26990</td>\n",
       "      <td>[0.5327977764660792, 0.6376041502949953]</td>\n",
       "    </tr>\n",
       "  </tbody>\n",
       "</table>\n",
       "</div>"
      ],
      "text/plain": [
       "   book_id book_name  word_count                                  book_intro\n",
       "0        1    Book 1       16445   [0.6610175950476592, 0.33421595829939765]\n",
       "1        2    Book 2       22584   [0.37291921139878503, 0.5479297831839793]\n",
       "2        3    Book 3       36040    [0.7954882081296476, 0.7878658744388319]\n",
       "3        4    Book 4       11261  [0.043185331672709326, 0.3498439724490018]\n",
       "4        5    Book 5       39583    [0.3920103206313903, 0.8601687296944729]\n",
       "5        6    Book 6       49990  [0.4052194588885134, 0.020604779220843916]\n",
       "6        7    Book 7       49207  [0.7060329046695322, 0.025111229204348384]\n",
       "7        8    Book 8       12267    [0.1466704245567495, 0.5430185533989226]\n",
       "8        9    Book 9       39384   [0.49970534419837165, 0.5237505672379067]\n",
       "9       10   Book 10       26990    [0.5327977764660792, 0.6376041502949953]"
      ]
     },
     "execution_count": 30,
     "metadata": {},
     "output_type": "execute_result"
    }
   ],
   "source": [
    "import random\n",
    "import pandas as pd\n",
    "\n",
    "data = []\n",
    "for i in range(10):\n",
    "    book_id = i + 1\n",
    "    book_name = f\"Book {book_id}\"\n",
    "    word_count = random.randint(10000, 50000)\n",
    "    book_intro = [random.random() for _ in range(2)]\n",
    "    data.append([book_id, book_name, word_count, book_intro])\n",
    "\n",
    "df = pd.DataFrame(data, columns=[\"book_id\", \"book_name\", \"word_count\", \"book_intro\"])\n",
    "df"
   ]
  },
  {
   "cell_type": "code",
   "execution_count": 31,
   "metadata": {},
   "outputs": [],
   "source": [
    "from pymilvus import Collection\n",
    "\n",
    "collection = Collection(\"book\")  # Get an existing collection.\n",
    "mr = collection.insert(df)"
   ]
  },
  {
   "cell_type": "markdown",
   "metadata": {},
   "source": [
    "Build an index"
   ]
  },
  {
   "cell_type": "code",
   "execution_count": 32,
   "metadata": {},
   "outputs": [],
   "source": [
    "index_params = {\"metric_type\": \"COSINE\", \"index_type\": \"FLAT\", \"params\": {\"nlist\": 1024}}"
   ]
  },
  {
   "cell_type": "code",
   "execution_count": 33,
   "metadata": {},
   "outputs": [
    {
     "data": {
      "text/plain": [
       "{'total_rows': 0, 'indexed_rows': 0, 'pending_index_rows': 0}"
      ]
     },
     "execution_count": 33,
     "metadata": {},
     "output_type": "execute_result"
    }
   ],
   "source": [
    "from pymilvus import Collection, utility\n",
    "\n",
    "collection = Collection(\"book\")\n",
    "collection.create_index(field_name=\"book_intro\", index_params=index_params)\n",
    "\n",
    "utility.index_building_progress(\"book\")"
   ]
  },
  {
   "cell_type": "markdown",
   "metadata": {},
   "source": [
    "Search and query"
   ]
  },
  {
   "cell_type": "code",
   "execution_count": 36,
   "metadata": {},
   "outputs": [],
   "source": [
    "from pymilvus import Collection\n",
    "collection = Collection(\"book\")      # Get an existing collection.\n",
    "collection.load()"
   ]
  },
  {
   "cell_type": "code",
   "execution_count": 37,
   "metadata": {},
   "outputs": [],
   "source": [
    "search_params = {\n",
    "    \"metric_type\": \"COSINE\", \n",
    "    \"offset\": 0, \n",
    "    \"ignore_growing\": False, \n",
    "    \"params\": {\"nprobe\": 4}\n",
    "}"
   ]
  },
  {
   "cell_type": "code",
   "execution_count": 40,
   "metadata": {},
   "outputs": [
    {
     "name": "stdout",
     "output_type": "stream",
     "text": [
      "[7, 5, 1, 2, 8, 10, 6, 9, 3, 4]\n",
      "[0.9995388984680176, 0.9993508458137512, 0.9951781630516052, 0.9910438656806946, 0.9800982475280762, 0.973106861114502, 0.9722944498062134, 0.9558489322662354, 0.947149932384491, 0.9424784779548645]\n"
     ]
    }
   ],
   "source": [
    "results = collection.search(\n",
    "    data=[[0.1, 0.2]], \n",
    "    anns_field=\"book_intro\", \n",
    "    # the sum of `offset` in `param` and `limit` \n",
    "    # should be less than 16384.\n",
    "    param=search_params,\n",
    "    limit=10,\n",
    "    expr=None,\n",
    "    # set the names of the fields you want to \n",
    "    # retrieve from the search result.\n",
    "    output_fields=['title'],\n",
    "    consistency_level=\"Strong\"\n",
    ")\n",
    "\n",
    "print(results[0].ids)\n",
    "\n",
    "print(results[0].distances)\n",
    "\n",
    "hit = results[0][0]\n",
    "hit.entity.get('title')"
   ]
  },
  {
   "cell_type": "code",
   "execution_count": 39,
   "metadata": {},
   "outputs": [
    {
     "data": {
      "text/plain": [
       "[\"['id: 7, distance: 0.9995388984680176, entity: {}', 'id: 5, distance: 0.9993508458137512, entity: {}', 'id: 1, distance: 0.9951781630516052, entity: {}', 'id: 2, distance: 0.9910438656806946, entity: {}', 'id: 8, distance: 0.9800982475280762, entity: {}', 'id: 10, distance: 0.973106861114502, entity: {}', 'id: 6, distance: 0.9722944498062134, entity: {}', 'id: 9, distance: 0.9558489322662354, entity: {}', 'id: 3, distance: 0.947149932384491, entity: {}', 'id: 4, distance: 0.9424784779548645, entity: {}']\"]"
      ]
     },
     "execution_count": 39,
     "metadata": {},
     "output_type": "execute_result"
    }
   ],
   "source": [
    "results"
   ]
  }
 ],
 "metadata": {
  "kernelspec": {
   "display_name": ".venv",
   "language": "python",
   "name": "python3"
  },
  "language_info": {
   "codemirror_mode": {
    "name": "ipython",
    "version": 3
   },
   "file_extension": ".py",
   "mimetype": "text/x-python",
   "name": "python",
   "nbconvert_exporter": "python",
   "pygments_lexer": "ipython3",
   "version": "3.11.7"
  }
 },
 "nbformat": 4,
 "nbformat_minor": 2
}
