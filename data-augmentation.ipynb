{
 "cells": [
  {
   "cell_type": "code",
   "execution_count": 1,
   "metadata": {},
   "outputs": [],
   "source": [
    "import pandas as pd\n",
    "import openai\n",
    "import os\n",
    "import dotenv\n",
    "from libraries.db import DatabaseProxy, Question\n",
    "import re\n",
    "from tqdm import tqdm"
   ]
  },
  {
   "cell_type": "code",
   "execution_count": 2,
   "metadata": {},
   "outputs": [],
   "source": [
    "with open(\"resources/question_augment_prompt.txt\", \"r\") as f:\n",
    "    prompt = f.read()"
   ]
  },
  {
   "cell_type": "code",
   "execution_count": 3,
   "metadata": {},
   "outputs": [],
   "source": [
    "dotenv.load_dotenv(\".envrc\")\n",
    "api_key = os.environ[\"OPENAI_API_KEY\"]\n",
    "openai.api_key = api_key"
   ]
  },
  {
   "cell_type": "code",
   "execution_count": 4,
   "metadata": {},
   "outputs": [],
   "source": [
    "db = DatabaseProxy()"
   ]
  },
  {
   "cell_type": "code",
   "execution_count": 5,
   "metadata": {},
   "outputs": [
    {
     "data": {
      "text/plain": [
       "[Question(text='How many candidates do you have in your database?', created_datetime=datetime.datetime(2023, 11, 17, 22, 26, 43), answer_id=1, modified_datetime=datetime.datetime(2023, 11, 17, 22, 26, 43), id=1, is_active=True),\n",
       " Question(text='How often do you review and refresh your database of candidates?', created_datetime=datetime.datetime(2023, 11, 17, 22, 26, 43), answer_id=2, modified_datetime=datetime.datetime(2023, 11, 17, 22, 26, 43), id=2, is_active=True),\n",
       " Question(text='If you are a member of the American Staffing Association, what certifications do you hold?', created_datetime=datetime.datetime(2023, 11, 17, 22, 26, 43), answer_id=3, modified_datetime=datetime.datetime(2023, 11, 17, 22, 26, 43), id=3, is_active=True)]"
      ]
     },
     "execution_count": 5,
     "metadata": {},
     "output_type": "execute_result"
    }
   ],
   "source": [
    "questions = db.get_questions()\n",
    "questions[:3]"
   ]
  },
  {
   "cell_type": "code",
   "execution_count": 6,
   "metadata": {},
   "outputs": [
    {
     "name": "stderr",
     "output_type": "stream",
     "text": [
      "  0%|          | 0/50 [00:00<?, ?it/s]"
     ]
    },
    {
     "name": "stderr",
     "output_type": "stream",
     "text": [
      "100%|██████████| 50/50 [02:09<00:00,  2.60s/it]\n"
     ]
    }
   ],
   "source": [
    "question_pattern = re.compile(r\"\\d\\. (.*)\\n?\")\n",
    "\n",
    "for question in tqdm(questions):\n",
    "    answer = db.get_answer_by_id(question.answer_id)\n",
    "    content = prompt.format(question=question.text, answer=answer.text)\n",
    "    conversation = [{\"role\": \"user\", \"content\": content}]\n",
    "    response = openai.ChatCompletion.create(\n",
    "        model=\"gpt-3.5-turbo\",\n",
    "        messages=conversation,\n",
    "        max_tokens=1000,\n",
    "    )\n",
    "    text = response[\"choices\"][0][\"message\"][\"content\"]\n",
    "    choices = question_pattern.findall(text)\n",
    "    choices = [choice.strip().strip('\"') for choice in choices]\n",
    "    for choice in choices:\n",
    "        new_question = Question(text=choice, answer_id=answer.id)\n",
    "        db.insert_question(new_question)"
   ]
  },
  {
   "cell_type": "code",
   "execution_count": 7,
   "metadata": {},
   "outputs": [
    {
     "name": "stdout",
     "output_type": "stream",
     "text": [
      "What instances have you encountered relating to DFEH and EEOC claims?\n",
      "Can you provide any examples of cases regarding DFEH and EEOC that you've dealt with?\n",
      "In what situations have you been involved with DFEH and EEOC claims?\n",
      "Have there been any notable matters concerning DFEH and EEOC that you've come across?\n",
      "Could you share any experiences you've had handling DFEH and EEOC claims?\n"
     ]
    }
   ],
   "source": [
    "print(\"\\n\".join(choices))"
   ]
  },
  {
   "cell_type": "code",
   "execution_count": 8,
   "metadata": {},
   "outputs": [
    {
     "name": "stdout",
     "output_type": "stream",
     "text": [
      "['What instances have you encountered relating to DFEH and EEOC claims?', \"Can you provide any examples of cases regarding DFEH and EEOC that you've dealt with?\", 'In what situations have you been involved with DFEH and EEOC claims?', \"Have there been any notable matters concerning DFEH and EEOC that you've come across?\", \"Could you share any experiences you've had handling DFEH and EEOC claims?\"]\n"
     ]
    }
   ],
   "source": [
    "print(choices)"
   ]
  }
 ],
 "metadata": {
  "kernelspec": {
   "display_name": ".venv",
   "language": "python",
   "name": "python3"
  },
  "language_info": {
   "codemirror_mode": {
    "name": "ipython",
    "version": 3
   },
   "file_extension": ".py",
   "mimetype": "text/x-python",
   "name": "python",
   "nbconvert_exporter": "python",
   "pygments_lexer": "ipython3",
   "version": "3.11.6"
  }
 },
 "nbformat": 4,
 "nbformat_minor": 2
}
