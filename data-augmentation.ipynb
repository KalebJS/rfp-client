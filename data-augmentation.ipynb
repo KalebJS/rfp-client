{
 "cells": [
  {
   "cell_type": "code",
   "execution_count": 1,
   "metadata": {},
   "outputs": [],
   "source": [
    "import pandas as pd\n",
    "import openai\n",
    "import os\n",
    "import dotenv\n",
    "from libraries.db import DatabaseProxy, Question\n",
    "import re\n",
    "from tqdm import tqdm"
   ]
  },
  {
   "cell_type": "code",
   "execution_count": 2,
   "metadata": {},
   "outputs": [],
   "source": [
    "prompt = [\n",
    "    {\n",
    "        \"role\": \"system\",\n",
    "        \"content\": \"\"\"Given the following question and answer pairs, generate 5 new ways to ask that question:\n",
    "        For example:\n",
    "        Question: \"How often do you review and refresh your database of candidates?\"\n",
    "        Answer: \"We refresh our database of candidates every 6 months.\"\n",
    "        \"\"\"\n",
    "    },\n",
    "    {\n",
    "        \"role\": \"user\",\n",
    "        \"content\": \"Question: \\\"{question}\\\"\\nAnswer: \\\"{answer}\\\"\"\n",
    "    }\n",
    "]"
   ]
  },
  {
   "cell_type": "code",
   "execution_count": 3,
   "metadata": {},
   "outputs": [],
   "source": [
    "dotenv.load_dotenv(\".envrc\")\n",
    "api_key = os.environ[\"OPENAI_API_KEY\"]\n",
    "openai.api_key = api_key"
   ]
  },
  {
   "cell_type": "code",
   "execution_count": 4,
   "metadata": {},
   "outputs": [],
   "source": [
    "db = DatabaseProxy()"
   ]
  },
  {
   "cell_type": "code",
   "execution_count": 5,
   "metadata": {},
   "outputs": [
    {
     "data": {
      "text/plain": [
       "[Question(id=1, text='How many candidates do you have in your database?', answer_id=1),\n",
       " Question(id=2, text='How often do you review and refresh your database of candidates?', answer_id=2),\n",
       " Question(id=3, text='If you are a member of the American Staffing Association, what certifications do you hold?', answer_id=3)]"
      ]
     },
     "execution_count": 5,
     "metadata": {},
     "output_type": "execute_result"
    }
   ],
   "source": [
    "questions = db.get_questions()\n",
    "questions[:3]"
   ]
  },
  {
   "cell_type": "code",
   "execution_count": 6,
   "metadata": {},
   "outputs": [
    {
     "name": "stderr",
     "output_type": "stream",
     "text": [
      "  0%|          | 0/50 [00:00<?, ?it/s]"
     ]
    },
    {
     "name": "stderr",
     "output_type": "stream",
     "text": [
      "100%|██████████| 50/50 [02:15<00:00,  2.71s/it]\n"
     ]
    }
   ],
   "source": [
    "question_pattern = re.compile(r\"\\d\\. (.*)\\n?\")\n",
    "\n",
    "for question in tqdm(questions):\n",
    "    answer = db.get_answer_by_id(question.answer_id)\n",
    "    prompt[1][\"content\"] = prompt[1][\"content\"].format(question=question.text, answer=answer.text)\n",
    "    response = openai.ChatCompletion.create(\n",
    "        model=\"gpt-3.5-turbo\",\n",
    "        messages=prompt,\n",
    "        max_tokens=1000,\n",
    "    )\n",
    "    text = response[\"choices\"][0][\"message\"][\"content\"]\n",
    "    choices = question_pattern.findall(text)\n",
    "    choices = [choice.strip().strip('\"') for choice in choices]\n",
    "    for choice in choices:\n",
    "        new_question = Question(text=choice, answer_id=answer.id)\n",
    "        db.insert_question(new_question)"
   ]
  },
  {
   "cell_type": "code",
   "execution_count": 7,
   "metadata": {},
   "outputs": [
    {
     "name": "stdout",
     "output_type": "stream",
     "text": [
      "How frequently do you update the number of candidates in your database?\n",
      "Can you provide an estimate of the total number of candidates currently in your database?\n",
      "When was the last time you updated the number of candidates in your database?\n",
      "Do you have an approximate count of the candidates in your database?\n",
      "Are there any specific metrics you track to monitor the size of your candidate database?\n"
     ]
    }
   ],
   "source": [
    "print(\"\\n\".join(choices))"
   ]
  },
  {
   "cell_type": "code",
   "execution_count": 8,
   "metadata": {},
   "outputs": [
    {
     "name": "stdout",
     "output_type": "stream",
     "text": [
      "['How frequently do you update the number of candidates in your database?', 'Can you provide an estimate of the total number of candidates currently in your database?', 'When was the last time you updated the number of candidates in your database?', 'Do you have an approximate count of the candidates in your database?', 'Are there any specific metrics you track to monitor the size of your candidate database?']\n"
     ]
    }
   ],
   "source": [
    "print(choices)"
   ]
  }
 ],
 "metadata": {
  "kernelspec": {
   "display_name": ".venv",
   "language": "python",
   "name": "python3"
  },
  "language_info": {
   "codemirror_mode": {
    "name": "ipython",
    "version": 3
   },
   "file_extension": ".py",
   "mimetype": "text/x-python",
   "name": "python",
   "nbconvert_exporter": "python",
   "pygments_lexer": "ipython3",
   "version": "3.11.6"
  }
 },
 "nbformat": 4,
 "nbformat_minor": 2
}
