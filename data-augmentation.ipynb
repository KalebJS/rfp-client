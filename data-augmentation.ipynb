{
 "cells": [
  {
   "cell_type": "code",
   "execution_count": null,
   "metadata": {},
   "outputs": [],
   "source": [
    "import pandas as pd\n",
    "import openai"
   ]
  },
  {
   "cell_type": "code",
   "execution_count": null,
   "metadata": {},
   "outputs": [],
   "source": [
    "prompt = \"\"\"Given the following question and answer pairs, generate 5 new ways to answer that question:\n",
    "\n",
    "For example:\n",
    "\n",
    "Question: \"How often do you review and refresh your database of candidates?\"\n",
    "Answer: \"We refresh our database of candidates every 6 months.\"\n",
    "\n",
    "1. \"What is your frequency for updating and renewing your candidate database?\"\n",
    "2. \"How frequently do you go through your pool of potential candidates to keep it current?\"\n",
    "3. \"How often do you revisit and update your database of job seekers?\"\n",
    "4. \"What is your process for regularly reviewing and refreshing your list of potential hires?\"\n",
    "5. \"Could you share the regularity with which you maintain and update your candidate database?\"\n",
    "\n",
    "Question: {question}\n",
    "Answer: {answer}\n",
    "\n",
    "\"\"\""
   ]
  },
  {
   "cell_type": "code",
   "execution_count": null,
   "metadata": {},
   "outputs": [],
   "source": []
  }
 ],
 "metadata": {
  "kernelspec": {
   "display_name": ".venv",
   "language": "python",
   "name": "python3"
  },
  "language_info": {
   "name": "python",
   "version": "3.11.6"
  }
 },
 "nbformat": 4,
 "nbformat_minor": 2
}
