{
 "cells": [
  {
   "cell_type": "code",
   "execution_count": 1,
   "metadata": {},
   "outputs": [],
   "source": [
    "import pandas as pd\n",
    "import openai\n",
    "import os\n",
    "import dotenv\n",
    "from libraries.db import DatabaseProxy, Question\n",
    "import re\n",
    "from tqdm import tqdm"
   ]
  },
  {
   "cell_type": "code",
   "execution_count": 2,
   "metadata": {},
   "outputs": [],
   "source": [
    "with open(\"resources/question_augment_prompt.txt\", \"r\") as f:\n",
    "    prompt = f.read()"
   ]
  },
  {
   "cell_type": "code",
   "execution_count": 3,
   "metadata": {},
   "outputs": [],
   "source": [
    "dotenv.load_dotenv(\".envrc\")\n",
    "api_key = os.environ[\"OPENAI_API_KEY\"]\n",
    "openai.api_key = api_key"
   ]
  },
  {
   "cell_type": "code",
   "execution_count": 4,
   "metadata": {},
   "outputs": [],
   "source": [
    "db = DatabaseProxy()"
   ]
  },
  {
   "cell_type": "code",
   "execution_count": 5,
   "metadata": {},
   "outputs": [
    {
     "data": {
      "text/plain": [
       "[Question(answer_id=1, created_datetime=datetime.datetime(2023, 11, 8, 5, 16, 40), id=1, text='How many candidates do you have in your database?'),\n",
       " Question(answer_id=2, created_datetime=datetime.datetime(2023, 11, 8, 5, 16, 40), id=2, text='How often do you review and refresh your database of candidates?'),\n",
       " Question(answer_id=3, created_datetime=datetime.datetime(2023, 11, 8, 5, 16, 40), id=3, text='If you are a member of the American Staffing Association, what certifications do you hold?')]"
      ]
     },
     "execution_count": 5,
     "metadata": {},
     "output_type": "execute_result"
    }
   ],
   "source": [
    "questions = db.get_questions()\n",
    "questions[:3]"
   ]
  },
  {
   "cell_type": "code",
   "execution_count": 6,
   "metadata": {},
   "outputs": [
    {
     "name": "stderr",
     "output_type": "stream",
     "text": [
      "  0%|          | 0/50 [00:00<?, ?it/s]"
     ]
    },
    {
     "name": "stderr",
     "output_type": "stream",
     "text": [
      "100%|██████████| 50/50 [01:50<00:00,  2.21s/it]\n"
     ]
    }
   ],
   "source": [
    "question_pattern = re.compile(r\"\\d\\. (.*)\\n?\")\n",
    "\n",
    "for question in tqdm(questions):\n",
    "    answer = db.get_answer_by_id(question.answer_id)\n",
    "    content = prompt.format(question=question.text, answer=answer.text)\n",
    "    conversation = [{\"role\": \"user\", \"content\": content}]\n",
    "    response = openai.ChatCompletion.create(\n",
    "        model=\"gpt-3.5-turbo\",\n",
    "        messages=conversation,\n",
    "        max_tokens=1000,\n",
    "    )\n",
    "    text = response[\"choices\"][0][\"message\"][\"content\"]\n",
    "    choices = question_pattern.findall(text)\n",
    "    choices = [choice.strip().strip('\"') for choice in choices]\n",
    "    for choice in choices:\n",
    "        new_question = Question(text=choice, answer_id=answer.id)\n",
    "        db.insert_question(new_question)"
   ]
  },
  {
   "cell_type": "code",
   "execution_count": 7,
   "metadata": {},
   "outputs": [
    {
     "name": "stdout",
     "output_type": "stream",
     "text": [
      "Can you provide any instances of claims you've had related to DFEH and EEOC?\n",
      "Have you encountered any cases involving DFEH and EEOC claims?\n",
      "What are some examples of DFEH and EEOC issues you've dealt with?\n",
      "Could you share any experiences you've had with DFEH and EEOC complaints?\n",
      "In what ways have DFEH and EEOC been involved in your organizational matters?\n"
     ]
    }
   ],
   "source": [
    "print(\"\\n\".join(choices))"
   ]
  },
  {
   "cell_type": "code",
   "execution_count": 8,
   "metadata": {},
   "outputs": [
    {
     "name": "stdout",
     "output_type": "stream",
     "text": [
      "[\"Can you provide any instances of claims you've had related to DFEH and EEOC?\", 'Have you encountered any cases involving DFEH and EEOC claims?', \"What are some examples of DFEH and EEOC issues you've dealt with?\", \"Could you share any experiences you've had with DFEH and EEOC complaints?\", 'In what ways have DFEH and EEOC been involved in your organizational matters?']\n"
     ]
    }
   ],
   "source": [
    "print(choices)"
   ]
  }
 ],
 "metadata": {
  "kernelspec": {
   "display_name": ".venv",
   "language": "python",
   "name": "python3"
  },
  "language_info": {
   "codemirror_mode": {
    "name": "ipython",
    "version": 3
   },
   "file_extension": ".py",
   "mimetype": "text/x-python",
   "name": "python",
   "nbconvert_exporter": "python",
   "pygments_lexer": "ipython3",
   "version": "3.11.6"
  }
 },
 "nbformat": 4,
 "nbformat_minor": 2
}
