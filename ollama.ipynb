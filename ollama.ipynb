{
 "cells": [
  {
   "cell_type": "code",
   "execution_count": 3,
   "metadata": {},
   "outputs": [],
   "source": [
    "import requests"
   ]
  },
  {
   "cell_type": "code",
   "execution_count": 4,
   "metadata": {},
   "outputs": [],
   "source": [
    "with open(\"resources/question_augment_prompt.txt\", \"r\") as f:\n",
    "    prompt_template = f.read()\n",
    "\n",
    "prompt = prompt_template.format(question=\"Are Security/Compliance reports publicly available?\", n=5)"
   ]
  },
  {
   "cell_type": "code",
   "execution_count": 8,
   "metadata": {},
   "outputs": [
    {
     "name": "stdout",
     "output_type": "stream",
     "text": [
      "1. \"Do you have a process for obtaining and reviewing security and compliance reports for your database?\"\n",
      "2. \"What are the accessibility and privacy considerations related to publicly available security and compliance reports for your candidate database?\"\n",
      "3. \"How do you ensure that publicly available security and compliance reports are accurate and up-to-date?\"\n",
      "4. \"What steps do you take to comply with relevant security and compliance regulations with publicly available reports?\"\n",
      "5. \"Are there limitations or restrictions on accessing publicly available security and compliance reports for your candidate database?\"\n"
     ]
    }
   ],
   "source": [
    "payload = {\n",
    "    \"model\": \"gemma:2b\",\n",
    "    \"prompt\": prompt,\n",
    "    \"stream\": False\n",
    "}\n",
    "response = requests.post(\"http://localhost:11434/api/generate\", json=payload)\n",
    "print(response.json()[\"response\"])"
   ]
  }
 ],
 "metadata": {
  "kernelspec": {
   "display_name": ".venv",
   "language": "python",
   "name": "python3"
  },
  "language_info": {
   "codemirror_mode": {
    "name": "ipython",
    "version": 3
   },
   "file_extension": ".py",
   "mimetype": "text/x-python",
   "name": "python",
   "nbconvert_exporter": "python",
   "pygments_lexer": "ipython3",
   "version": "3.11.8"
  }
 },
 "nbformat": 4,
 "nbformat_minor": 2
}
