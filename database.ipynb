{
 "cells": [
  {
   "cell_type": "code",
   "execution_count": 1,
   "metadata": {},
   "outputs": [],
   "source": [
    "import pandas as pd\n",
    "from libraries.db import DatabaseProxy"
   ]
  },
  {
   "cell_type": "code",
   "execution_count": 2,
   "metadata": {},
   "outputs": [
    {
     "data": {
      "text/html": [
       "<div>\n",
       "<style scoped>\n",
       "    .dataframe tbody tr th:only-of-type {\n",
       "        vertical-align: middle;\n",
       "    }\n",
       "\n",
       "    .dataframe tbody tr th {\n",
       "        vertical-align: top;\n",
       "    }\n",
       "\n",
       "    .dataframe thead th {\n",
       "        text-align: right;\n",
       "    }\n",
       "</style>\n",
       "<table border=\"1\" class=\"dataframe\">\n",
       "  <thead>\n",
       "    <tr style=\"text-align: right;\">\n",
       "      <th></th>\n",
       "      <th>question</th>\n",
       "      <th>answer</th>\n",
       "      <th>partners_personnel_selected</th>\n",
       "    </tr>\n",
       "  </thead>\n",
       "  <tbody>\n",
       "    <tr>\n",
       "      <th>0</th>\n",
       "      <td>How many candidates do you have in your database?</td>\n",
       "      <td>As of today, 4/25/2023, we have the following:...</td>\n",
       "      <td>0</td>\n",
       "    </tr>\n",
       "    <tr>\n",
       "      <th>1</th>\n",
       "      <td>How often do you review and refresh your datab...</td>\n",
       "      <td>Our sourcing platform is updated throughout th...</td>\n",
       "      <td>0</td>\n",
       "    </tr>\n",
       "    <tr>\n",
       "      <th>2</th>\n",
       "      <td>If you are a member of the American Staffing A...</td>\n",
       "      <td>Partners Personnel is not currently a member o...</td>\n",
       "      <td>0</td>\n",
       "    </tr>\n",
       "    <tr>\n",
       "      <th>3</th>\n",
       "      <td>How do you determine which employees need cove...</td>\n",
       "      <td>ACA compliance states that anyone who on avera...</td>\n",
       "      <td>0</td>\n",
       "    </tr>\n",
       "    <tr>\n",
       "      <th>4</th>\n",
       "      <td>Can you commit to meet emergency requests and/...</td>\n",
       "      <td>Yes, Depends on each site. Minimum lead times ...</td>\n",
       "      <td>0</td>\n",
       "    </tr>\n",
       "  </tbody>\n",
       "</table>\n",
       "</div>"
      ],
      "text/plain": [
       "                                            question  \\\n",
       "0  How many candidates do you have in your database?   \n",
       "1  How often do you review and refresh your datab...   \n",
       "2  If you are a member of the American Staffing A...   \n",
       "3  How do you determine which employees need cove...   \n",
       "4  Can you commit to meet emergency requests and/...   \n",
       "\n",
       "                                              answer  \\\n",
       "0  As of today, 4/25/2023, we have the following:...   \n",
       "1  Our sourcing platform is updated throughout th...   \n",
       "2  Partners Personnel is not currently a member o...   \n",
       "3  ACA compliance states that anyone who on avera...   \n",
       "4  Yes, Depends on each site. Minimum lead times ...   \n",
       "\n",
       "  partners_personnel_selected  \n",
       "0                           0  \n",
       "1                           0  \n",
       "2                           0  \n",
       "3                           0  \n",
       "4                           0  "
      ]
     },
     "execution_count": 2,
     "metadata": {},
     "output_type": "execute_result"
    }
   ],
   "source": [
    "df = pd.read_csv(\"input/50qa-pairs.csv\", encoding='latin-1', dtype=\"str\")\n",
    "df.head()"
   ]
  },
  {
   "cell_type": "code",
   "execution_count": 3,
   "metadata": {},
   "outputs": [],
   "source": [
    "import re\n",
    "\n",
    "\n",
    "non_alphanumeric = set()\n",
    "pattern = r\"[^a-zA-Z0-9\\s]\"\n",
    "\n",
    "# get all non-alphanumeric characters in the questions and answers\n",
    "for index, row in df.iterrows():\n",
    "    question = row[\"question\"]\n",
    "    answer = str(row[\"answer\"])\n",
    "    non_alphanumeric.update(set(re.findall(pattern, question)))\n",
    "    non_alphanumeric.update(set(re.findall(pattern, answer)))"
   ]
  },
  {
   "cell_type": "code",
   "execution_count": 4,
   "metadata": {},
   "outputs": [
    {
     "data": {
      "text/plain": [
       "{'%', '&', '(', ')', ',', '-', '.', '/', ':', '>', '?', '½', '¿', 'ï'}"
      ]
     },
     "execution_count": 4,
     "metadata": {},
     "output_type": "execute_result"
    }
   ],
   "source": [
    "non_alphanumeric"
   ]
  },
  {
   "cell_type": "code",
   "execution_count": 5,
   "metadata": {},
   "outputs": [],
   "source": [
    "mapping = {\n",
    "    \"¥\": \"-\",\n",
    "    \"É\": \"...\",\n",
    "    \"Ð\": \"—\",\n",
    "    \"Ñ\": \"—\",\n",
    "    \"Ò\": '\"',\n",
    "    \"Ó\": '\"',\n",
    "    \"Õ\": \"'\"\n",
    "}\n",
    "\n",
    "def replace_non_alphanumeric(text):\n",
    "    text = str(text)\n",
    "    for key, value in mapping.items():\n",
    "        text = text.replace(key, value)\n",
    "    return text\n",
    "\n",
    "df[\"question\"] = df[\"question\"].apply(replace_non_alphanumeric)\n",
    "df[\"answer\"] = df[\"answer\"].apply(replace_non_alphanumeric)"
   ]
  },
  {
   "cell_type": "code",
   "execution_count": 6,
   "metadata": {},
   "outputs": [],
   "source": [
    "db = DatabaseProxy(reset=True)"
   ]
  },
  {
   "cell_type": "code",
   "execution_count": 7,
   "metadata": {},
   "outputs": [],
   "source": [
    "from libraries.db.model import Answer, Question\n",
    "\n",
    "\n",
    "for _, row in df.iterrows():\n",
    "    answer = Answer(\n",
    "        text=str(row[\"answer\"]).strip()\n",
    "    )\n",
    "    answer = db.insert_answer(answer)\n",
    "    question = Question(\n",
    "        text=str(row[\"question\"]).strip(),\n",
    "        answer_id=answer.id\n",
    "    )\n",
    "    db.insert_question(question)"
   ]
  },
  {
   "cell_type": "markdown",
   "metadata": {},
   "source": [
    "## View answers"
   ]
  },
  {
   "cell_type": "code",
   "execution_count": 8,
   "metadata": {},
   "outputs": [
    {
     "data": {
      "text/plain": [
       "[Answer(id=1, text='As of today, 4/25/2023, we have the following:\\n2060 associates who have successfully completed assignments and are available for work\\n3464 associate who have been onboarded within the last 30 days and are available for work\\n4117 associates going through the application process\\nIn total we have 57083 associates active and unassigned in our system.', linked_org=None, created_datetime=datetime.datetime(2023, 11, 8, 5, 16, 40)),\n",
       " Answer(id=2, text='Our sourcing platform is updated throughout the day and allows our teams to view associate who have recently completed assignments successfully, those who have been newly onboarded and those in the application process. This allows our teams to view the most up to date information with associates who are actively seeking employment.', linked_org=None, created_datetime=datetime.datetime(2023, 11, 8, 5, 16, 40)),\n",
       " Answer(id=3, text='Partners Personnel is not currently a member of the American Staffing Association. However, Partners Personnel has been recognized by the Staffing Industry Analysts (SIA) as the Best Staffing Firm To Work For in 2022 and 2023. Additionally, Partners Personnel has been recognized by Clearly Rated as the Best of Staffing Client Satisfaction and Best of Staffing Talent Satisfaction for 2023.', linked_org=None, created_datetime=datetime.datetime(2023, 11, 8, 5, 16, 40)),\n",
       " Answer(id=4, text='ACA compliance states that anyone who on average works more than 30 hours per week or 130 hours per month requires aca coverage. Our payroll system automates this process through the start dates, hours worked and end dates of assignments.', linked_org=None, created_datetime=datetime.datetime(2023, 11, 8, 5, 16, 40)),\n",
       " Answer(id=5, text='Yes, Depends on each site. Minimum lead times will depend on how many associates are requested.', linked_org=None, created_datetime=datetime.datetime(2023, 11, 8, 5, 16, 40))]"
      ]
     },
     "execution_count": 8,
     "metadata": {},
     "output_type": "execute_result"
    }
   ],
   "source": [
    "db.get_answers()[:5]"
   ]
  },
  {
   "cell_type": "code",
   "execution_count": 9,
   "metadata": {},
   "outputs": [],
   "source": [
    "db.get_answer_by_id(152)"
   ]
  },
  {
   "cell_type": "code",
   "execution_count": 10,
   "metadata": {},
   "outputs": [
    {
     "data": {
      "text/plain": [
       "50"
      ]
     },
     "execution_count": 10,
     "metadata": {},
     "output_type": "execute_result"
    }
   ],
   "source": [
    "len(db.get_questions())"
   ]
  }
 ],
 "metadata": {
  "kernelspec": {
   "display_name": ".venv",
   "language": "python",
   "name": "python3"
  },
  "language_info": {
   "codemirror_mode": {
    "name": "ipython",
    "version": 3
   },
   "file_extension": ".py",
   "mimetype": "text/x-python",
   "name": "python",
   "nbconvert_exporter": "python",
   "pygments_lexer": "ipython3",
   "version": "3.11.6"
  }
 },
 "nbformat": 4,
 "nbformat_minor": 2
}
