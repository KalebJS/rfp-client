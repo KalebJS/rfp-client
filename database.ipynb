{
 "cells": [
  {
   "cell_type": "code",
   "execution_count": 1,
   "metadata": {},
   "outputs": [],
   "source": [
    "import pandas as pd\n",
    "from libraries.db import DatabaseProxy"
   ]
  },
  {
   "cell_type": "code",
   "execution_count": 2,
   "metadata": {},
   "outputs": [
    {
     "data": {
      "text/html": [
       "<div>\n",
       "<style scoped>\n",
       "    .dataframe tbody tr th:only-of-type {\n",
       "        vertical-align: middle;\n",
       "    }\n",
       "\n",
       "    .dataframe tbody tr th {\n",
       "        vertical-align: top;\n",
       "    }\n",
       "\n",
       "    .dataframe thead th {\n",
       "        text-align: right;\n",
       "    }\n",
       "</style>\n",
       "<table border=\"1\" class=\"dataframe\">\n",
       "  <thead>\n",
       "    <tr style=\"text-align: right;\">\n",
       "      <th></th>\n",
       "      <th>question</th>\n",
       "      <th>answer</th>\n",
       "      <th>partners_personnel_selected</th>\n",
       "    </tr>\n",
       "  </thead>\n",
       "  <tbody>\n",
       "    <tr>\n",
       "      <th>0</th>\n",
       "      <td>Checking the financial stability of our suppli...</td>\n",
       "      <td>Our fiscal year begins in January and ends in ...</td>\n",
       "      <td>0</td>\n",
       "    </tr>\n",
       "    <tr>\n",
       "      <th>1</th>\n",
       "      <td>How many candidates do you have in your database?</td>\n",
       "      <td>As of today, 4/25/2023, we have the following:...</td>\n",
       "      <td>0</td>\n",
       "    </tr>\n",
       "    <tr>\n",
       "      <th>2</th>\n",
       "      <td>How do you select which candidates are placed ...</td>\n",
       "      <td>Our specialized role known as the client speci...</td>\n",
       "      <td>0</td>\n",
       "    </tr>\n",
       "    <tr>\n",
       "      <th>3</th>\n",
       "      <td>How often do you review and refresh your datab...</td>\n",
       "      <td>Our sourcing platform is updated throughout th...</td>\n",
       "      <td>0</td>\n",
       "    </tr>\n",
       "    <tr>\n",
       "      <th>4</th>\n",
       "      <td>What type of background and drug testing do yo...</td>\n",
       "      <td>AccuSource is our service provider for backgro...</td>\n",
       "      <td>0</td>\n",
       "    </tr>\n",
       "  </tbody>\n",
       "</table>\n",
       "</div>"
      ],
      "text/plain": [
       "                                            question  \\\n",
       "0  Checking the financial stability of our suppli...   \n",
       "1  How many candidates do you have in your database?   \n",
       "2  How do you select which candidates are placed ...   \n",
       "3  How often do you review and refresh your datab...   \n",
       "4  What type of background and drug testing do yo...   \n",
       "\n",
       "                                              answer  \\\n",
       "0  Our fiscal year begins in January and ends in ...   \n",
       "1  As of today, 4/25/2023, we have the following:...   \n",
       "2  Our specialized role known as the client speci...   \n",
       "3  Our sourcing platform is updated throughout th...   \n",
       "4  AccuSource is our service provider for backgro...   \n",
       "\n",
       "  partners_personnel_selected  \n",
       "0                           0  \n",
       "1                           0  \n",
       "2                           0  \n",
       "3                           0  \n",
       "4                           0  "
      ]
     },
     "execution_count": 2,
     "metadata": {},
     "output_type": "execute_result"
    }
   ],
   "source": [
    "df = pd.read_csv(\"input/qa-pairs.csv\", encoding=\"latin-1\", dtype=\"str\")\n",
    "df.head()"
   ]
  },
  {
   "cell_type": "code",
   "execution_count": 3,
   "metadata": {},
   "outputs": [],
   "source": [
    "import re\n",
    "\n",
    "\n",
    "non_alphanumeric = set()\n",
    "pattern = r\"[^a-zA-Z0-9\\s]\"\n",
    "\n",
    "# get all non-alphanumeric characters in the questions and answers\n",
    "for index, row in df.iterrows():\n",
    "    question = row[\"question\"]\n",
    "    answer = str(row[\"answer\"])\n",
    "    non_alphanumeric.update(set(re.findall(pattern, question)))\n",
    "    non_alphanumeric.update(set(re.findall(pattern, answer)))"
   ]
  },
  {
   "cell_type": "code",
   "execution_count": 4,
   "metadata": {},
   "outputs": [
    {
     "data": {
      "text/plain": [
       "{'\"',\n",
       " '%',\n",
       " '&',\n",
       " \"'\",\n",
       " '(',\n",
       " ')',\n",
       " ',',\n",
       " '-',\n",
       " '.',\n",
       " '/',\n",
       " ':',\n",
       " '>',\n",
       " '?',\n",
       " '¥',\n",
       " 'É',\n",
       " 'Ð',\n",
       " 'Ñ',\n",
       " 'Ò',\n",
       " 'Ó',\n",
       " 'Õ'}"
      ]
     },
     "execution_count": 4,
     "metadata": {},
     "output_type": "execute_result"
    }
   ],
   "source": [
    "non_alphanumeric"
   ]
  },
  {
   "cell_type": "code",
   "execution_count": 5,
   "metadata": {},
   "outputs": [],
   "source": [
    "mapping = {\"¥\": \"-\", \"É\": \"...\", \"Ð\": \"—\", \"Ñ\": \"—\", \"Ò\": '\"', \"Ó\": '\"', \"Õ\": \"'\"}\n",
    "\n",
    "\n",
    "def replace_non_alphanumeric(text):\n",
    "    text = str(text)\n",
    "    for key, value in mapping.items():\n",
    "        text = text.replace(key, value)\n",
    "    return text\n",
    "\n",
    "\n",
    "df[\"question\"] = df[\"question\"].apply(replace_non_alphanumeric)\n",
    "df[\"answer\"] = df[\"answer\"].apply(replace_non_alphanumeric)"
   ]
  },
  {
   "cell_type": "code",
   "execution_count": 6,
   "metadata": {},
   "outputs": [],
   "source": [
    "db = DatabaseProxy(reset=True)"
   ]
  },
  {
   "cell_type": "code",
   "execution_count": 7,
   "metadata": {},
   "outputs": [],
   "source": [
    "from libraries.db.model import Answer, Question\n",
    "\n",
    "\n",
    "for _, row in df.iterrows():\n",
    "    answer = Answer(text=str(row[\"answer\"]).strip())\n",
    "    answer = db.insert_answer(answer)\n",
    "    question = Question(text=str(row[\"question\"]).strip(), answer_id=answer.id)\n",
    "    db.insert_question(question)"
   ]
  },
  {
   "cell_type": "markdown",
   "metadata": {},
   "source": [
    "## View answers"
   ]
  },
  {
   "cell_type": "code",
   "execution_count": 8,
   "metadata": {},
   "outputs": [
    {
     "data": {
      "text/plain": [
       "[Answer(text='Our fiscal year begins in January and ends in December this contains four 5-week periods and eight 4-week periods with weeks ending on Sunday.', created_datetime=datetime.datetime(2023, 11, 17, 4, 27, 12), owner_organization=None, modified_datetime=datetime.datetime(2023, 11, 17, 4, 27, 12), id=1),\n",
       " Answer(text='As of today, 4/25/2023, we have the following:\\n2060 associates who have successfully completed assignments and are available for work\\n3464 associate who have been onboarded within the last 30 days and are available for work\\n4117 associates going through the application process\\nIn total we have 57083 associates active and unassigned in our system.', created_datetime=datetime.datetime(2023, 11, 17, 4, 27, 12), owner_organization=None, modified_datetime=datetime.datetime(2023, 11, 17, 4, 27, 12), id=2),\n",
       " Answer(text='Our specialized role known as the client specialist is a dedicated resource to our customers. Their primary role is to intake orders evaluate priority and review with candidates and customers opportunities presented. In the instance of competing orders candidates would be vetted for each role to ensure they are up to the standards of the customer, and they are willing to take on the position. Ultimately our Client Specialist is working to find the right person for the job.', created_datetime=datetime.datetime(2023, 11, 17, 4, 27, 12), owner_organization=None, modified_datetime=datetime.datetime(2023, 11, 17, 4, 27, 12), id=3),\n",
       " Answer(text='Our sourcing platform is updated throughout the day and allows our teams to view associate who have recently completed assignments successfully, those who have been newly onboarded and those in the application process. This allows our teams to view the most up to date information with associates who are actively seeking employment.', created_datetime=datetime.datetime(2023, 11, 17, 4, 27, 12), owner_organization=None, modified_datetime=datetime.datetime(2023, 11, 17, 4, 27, 12), id=4),\n",
       " Answer(text='AccuSource is our service provider for background checking, we have approximately 20 background packages to go as extensive as your matrix affords. The most common background checking requested includes SSN, National Criminal Database, and County Criminal Search. \\nOur standard drug screening process is a Lochness 5 or 10 panel mouth swab.', created_datetime=datetime.datetime(2023, 11, 17, 4, 27, 12), owner_organization=None, modified_datetime=datetime.datetime(2023, 11, 17, 4, 27, 12), id=5)]"
      ]
     },
     "execution_count": 8,
     "metadata": {},
     "output_type": "execute_result"
    }
   ],
   "source": [
    "db.get_answers()[:5]"
   ]
  },
  {
   "cell_type": "code",
   "execution_count": 9,
   "metadata": {},
   "outputs": [
    {
     "data": {
      "text/plain": [
       "Answer(text='Ex 1: We perform extensive screening for candidates that best match the job descriptions and are comfortable with the expectations at each site. We take care of all of our associates and over-communicate to ensure successful placement.                                                                                                                                                           \\nEx 2: Employee Recognition\\nWe are firm believers in recognizing and rewarding good behavior and have met with much success using some of these employee appreciation efforts \\n-\\tEmployee of the Month — working together with supervisory staff in identifying deserving associates each month.\\n-\\tRaffle Employee Attendance Program.  Anyone with 100% attendance with 40 hours plus in a week, raffle items (gas cards, gift cards, CASH). \\n-\\tEmployee \"Goal\" Lunch or Raffle:  When an employee or \"Team\" achieves a set goal or exceeds expectations, we would sponsor a special lunch or do a raffle for that Team. This approach can also be very effective in achieving higher attendance.', created_datetime=datetime.datetime(2023, 11, 17, 4, 27, 12), owner_organization=None, modified_datetime=datetime.datetime(2023, 11, 17, 4, 27, 12), id=152)"
      ]
     },
     "execution_count": 9,
     "metadata": {},
     "output_type": "execute_result"
    }
   ],
   "source": [
    "db.get_answer_by_id(152)"
   ]
  },
  {
   "cell_type": "code",
   "execution_count": 10,
   "metadata": {},
   "outputs": [
    {
     "data": {
      "text/plain": [
       "168"
      ]
     },
     "execution_count": 10,
     "metadata": {},
     "output_type": "execute_result"
    }
   ],
   "source": [
    "len(db.get_questions())"
   ]
  }
 ],
 "metadata": {
  "kernelspec": {
   "display_name": ".venv",
   "language": "python",
   "name": "python3"
  },
  "language_info": {
   "codemirror_mode": {
    "name": "ipython",
    "version": 3
   },
   "file_extension": ".py",
   "mimetype": "text/x-python",
   "name": "python",
   "nbconvert_exporter": "python",
   "pygments_lexer": "ipython3",
   "version": "3.11.6"
  }
 },
 "nbformat": 4,
 "nbformat_minor": 2
}
