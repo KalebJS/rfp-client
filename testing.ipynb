{
 "cells": [
  {
   "cell_type": "code",
   "execution_count": null,
   "metadata": {},
   "outputs": [],
   "source": [
    "import requests\n",
    "import pandas as pd\n",
    "from openai import OpenAI\n",
    "import dotenv\n",
    "import os\n",
    "import re\n",
    "from tqdm import tqdm"
   ]
  },
  {
   "cell_type": "code",
   "execution_count": null,
   "metadata": {},
   "outputs": [],
   "source": [
    "dotenv.load_dotenv(\".envrc\")\n",
    "api_key = os.environ[\"OPENAI_API_KEY\"]\n",
    "\n",
    "client = OpenAI(api_key=api_key)"
   ]
  },
  {
   "cell_type": "code",
   "execution_count": null,
   "metadata": {},
   "outputs": [],
   "source": [
    "with open(\"resources/question_augment_prompt.txt\", \"r\") as f:\n",
    "    prompt = f.read()\n",
    "\n",
    "question_pattern = re.compile(r\"\\d\\. (.*)\\n?\")"
   ]
  },
  {
   "cell_type": "code",
   "execution_count": null,
   "metadata": {},
   "outputs": [],
   "source": [
    "df = pd.read_csv('input/alternatives.csv')"
   ]
  },
  {
   "cell_type": "code",
   "execution_count": null,
   "metadata": {},
   "outputs": [],
   "source": [
    "correct = 0\n",
    "total = 0\n",
    "alternatives = {}\n",
    "for row in tqdm(df.to_dict(orient=\"records\")):\n",
    "    question = row[\"text\"]\n",
    "    content = prompt.format(question=question, n=5)\n",
    "    conversation = [{\"role\": \"user\", \"content\": content}]\n",
    "    response = client.chat.completions.create(model=\"gpt-3.5-turbo\", messages=conversation, max_tokens=1000)\n",
    "    text = response.choices[0].message.content\n",
    "\n",
    "    choices = question_pattern.findall(text)\n",
    "    alternatives[row[\"id\"]] = choices\n",
    "    choices = [choice.strip().strip('\"') for choice in choices]\n",
    "    for choice in choices:\n",
    "        total += 1\n",
    "        msg = None\n",
    "        for i in range(3):\n",
    "            try:\n",
    "                response = requests.post(url=\"http://coruscant.local:8000/inference/\", json={\"question\": choice})\n",
    "            except Exception as e:\n",
    "                msg = e\n",
    "                continue\n",
    "            break\n",
    "        else:\n",
    "            print(\"ERROR\", msg)\n",
    "            continue\n",
    "        \n",
    "        result = response.json()\n",
    "        if not result:\n",
    "            print(f\"Question: {question}\")\n",
    "            print(f\"Choice: {choice}\")\n",
    "            print(f\"Result: {result}\")\n",
    "            print(\"-\" * 80)\n",
    "            continue\n",
    "\n",
    "        first = result[0][\"similar_question\"]\n",
    "        if first.strip() == question.strip():\n",
    "            correct += 1\n",
    "        else:\n",
    "            print(f\"Question: {question}\")\n",
    "            print(f\"Choice: {choice}\")\n",
    "            print(f\"Result: {result}\")\n",
    "            print(\"-\" * 80)"
   ]
  },
  {
   "cell_type": "code",
   "execution_count": null,
   "metadata": {},
   "outputs": [],
   "source": [
    "correct, total, correct / total"
   ]
  },
  {
   "cell_type": "code",
   "execution_count": null,
   "metadata": {},
   "outputs": [],
   "source": [
    "rows = []\n",
    "for key, value in alternatives.items():\n",
    "    for choice in value:\n",
    "        rows.append({\"id\": key, \"choice\": choice})\n",
    "\n",
    "df = pd.DataFrame(rows)\n",
    "df.to_csv(\"input/alternatives.csv\", index=False)"
   ]
  }
 ],
 "metadata": {
  "kernelspec": {
   "display_name": ".venv",
   "language": "python",
   "name": "python3"
  },
  "language_info": {
   "codemirror_mode": {
    "name": "ipython",
    "version": 3
   },
   "file_extension": ".py",
   "mimetype": "text/x-python",
   "name": "python",
   "nbconvert_exporter": "python",
   "pygments_lexer": "ipython3",
   "version": "3.11.7"
  }
 },
 "nbformat": 4,
 "nbformat_minor": 2
}
