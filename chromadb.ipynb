{
 "cells": [
  {
   "cell_type": "code",
   "execution_count": 1,
   "metadata": {},
   "outputs": [],
   "source": [
    "import chromadb\n",
    "from libraries.db import DatabaseProxy"
   ]
  },
  {
   "cell_type": "code",
   "execution_count": 2,
   "metadata": {},
   "outputs": [],
   "source": [
    "chroma_client = chromadb.PersistentClient(\"./instance\")\n",
    "collection = chroma_client.create_collection(name=\"my_collection\", metadata={\"hnsw:space\": \"cosine\"})"
   ]
  },
  {
   "cell_type": "code",
   "execution_count": 3,
   "metadata": {},
   "outputs": [],
   "source": [
    "db = DatabaseProxy()"
   ]
  },
  {
   "cell_type": "code",
   "execution_count": 4,
   "metadata": {},
   "outputs": [],
   "source": [
    "questions = db.get_questions()"
   ]
  },
  {
   "cell_type": "code",
   "execution_count": 5,
   "metadata": {},
   "outputs": [],
   "source": [
    "documents = []\n",
    "metadatas = []\n",
    "ids = []\n",
    "for question in questions:\n",
    "    documents.append(question.text)\n",
    "    metadatas.append({\"id\": question.id})\n",
    "    ids.append(str(question.id))"
   ]
  },
  {
   "cell_type": "code",
   "execution_count": 6,
   "metadata": {},
   "outputs": [],
   "source": [
    "collection.add(ids, documents=documents, metadatas=metadatas)"
   ]
  },
  {
   "cell_type": "code",
   "execution_count": 7,
   "metadata": {},
   "outputs": [
    {
     "data": {
      "text/plain": [
       "[Question(id=1, text='Checking the financial stability of our suppliers is part of our due diligence process. To support us in doing this, please tell us when your company financial year runs to and from.', answer_id=1),\n",
       " Question(id=2, text='How many candidates do you have in your database?', answer_id=2),\n",
       " Question(id=3, text='How do you select which candidates are placed where?  For instance, if two buyers are looking for the same candidate, how do you ultimately determine which company to place that employee with?', answer_id=3),\n",
       " Question(id=4, text='How often do you review and refresh your database of candidates?', answer_id=4),\n",
       " Question(id=5, text='What type of background and drug testing do you conduct?  How extensive are they? Who is your service provider for background checking?', answer_id=5)]"
      ]
     },
     "execution_count": 7,
     "metadata": {},
     "output_type": "execute_result"
    }
   ],
   "source": [
    "questions[:5]"
   ]
  },
  {
   "cell_type": "code",
   "execution_count": 11,
   "metadata": {},
   "outputs": [],
   "source": [
    "def print_results(results):\n",
    "    for i in range(len(results[\"ids\"][0])):\n",
    "        print(results[\"ids\"][0][i], round(results[\"distances\"][0][i], 2), results[\"documents\"][0][i])\n",
    "        question = db.get_question_by_id(results[\"ids\"][0][i])\n",
    "        print(db.get_answer_by_id(question.answer_id).text)\n",
    "        print()"
   ]
  },
  {
   "cell_type": "code",
   "execution_count": 12,
   "metadata": {},
   "outputs": [
    {
     "name": "stdout",
     "output_type": "stream",
     "text": [
      "22 0.44 Provide a brief of company history and number of employees\n",
      "545 employees\n",
      "\n",
      "158 0.46 What is your most recent satisfaction score for the employees youÕve placed?\n",
      "We continually hold ourselves accountable to the satisfaction of the associates we place out on assignment. Our branches are scored weekly on the first day follow up calls to associates recently placed. Additionally, our on-site representatives conduct weekly associate satisfaction surveys on 10% of the population, scored weekly on the completion percentage, to ensure we trend in the right direction with happy associates and a good work environment.\n",
      "\n",
      "151 0.56 If you were a provider of ours last season what was your turnover rate?  If you did not provide labor to us last season what is your average turnover rate?\n",
      "We were not a provider last season\n",
      "YTD Turnover % \n",
      "CA Market - 44%\n",
      "TX Market - 65%\n",
      "NJ Market - 0% (new market)\n",
      "\n"
     ]
    }
   ],
   "source": [
    "results = collection.query(\n",
    "    query_texts=[\"How many employees work at your firm?\"],\n",
    "    n_results=3\n",
    ")\n",
    "print_results(results)"
   ]
  },
  {
   "cell_type": "code",
   "execution_count": 13,
   "metadata": {},
   "outputs": [
    {
     "name": "stdout",
     "output_type": "stream",
     "text": [
      "152 0.48 What action or steps do you implement to retain employees throughout the season?\n",
      "Ex 1: We perform extensive screening for candidates that best match the job descriptions and are comfortable with the expectations at each site. We take care of all of our associates and over-communicate to ensure successful placement.                                                                                                                                                           \n",
      "Ex 2: Employee Recognition\n",
      "We are firm believers in recognizing and rewarding good behavior and have met with much success using some of these employee appreciation efforts \n",
      "¥\tEmployee of the Month Ð working together with supervisory staff in identifying deserving associates each month.\n",
      "¥\tRaffle Employee Attendance Program.  Anyone with 100% attendance with 40 hours plus in a week, raffle items (gas cards, gift cards, CASH). \n",
      "¥\tEmployee ÒGoalÓ Lunch or Raffle:  When an employee or ÒTeamÓ achieves a set goal or exceeds expectations, we would sponsor a special lunch or do a raffle for that Team. This approach can also be very effective in achieving higher attendance.\n",
      "\n",
      "165 0.55 What is your strategy around hiring for forklift drivers?\n",
      "Our candidate sourcing is done through various job board platforms, social media, referrals, job fairs and events. Regarding forklift drivers, we understand that this is no easy task, so we take the time when interviewing potential associates to ensure that they have the forklift experience (with work history verification or certification verification), previous warehouse or factory experience, a good commitment to safety and have a keen eye for detail.\n",
      "\n",
      "4 0.56 How often do you review and refresh your database of candidates?\n",
      "Our sourcing platform is updated throughout the day and allows our teams to view associate who have recently completed assignments successfully, those who have been newly onboarded and those in the application process. This allows our teams to view the most up to date information with associates who are actively seeking employment.\n",
      "\n"
     ]
    }
   ],
   "source": [
    "results = collection.query(\n",
    "    query_texts=[\"How often do you hire new employees?\"],\n",
    "    n_results=3\n",
    ")\n",
    "print_results(results)"
   ]
  },
  {
   "cell_type": "code",
   "execution_count": 14,
   "metadata": {},
   "outputs": [
    {
     "name": "stdout",
     "output_type": "stream",
     "text": [
      "7 0.57 Please advise how Michaels will be utilized in the hiring and onboarding process.  For example, who provides the approvals and onboarding training?\n",
      "We can accommodate to the needs of each location whether that be an onboarding process conducted in our local branch location or an on-site onboarding process. Our goal is to work with the local teams at Michaels to ensure on-boarding/training is successful and candidates start with the goal of being successful when placed.\n",
      "\n",
      "3 0.58 How do you select which candidates are placed where?  For instance, if two buyers are looking for the same candidate, how do you ultimately determine which company to place that employee with?\n",
      "Our specialized role known as the client specialist is a dedicated resource to our customers. Their primary role is to intake orders evaluate priority and review with candidates and customers opportunities presented. In the instance of competing orders candidates would be vetted for each role to ensure they are up to the standards of the customer, and they are willing to take on the position. Ultimately our Client Specialist is working to find the right person for the job.\n",
      "\n",
      "165 0.58 What is your strategy around hiring for forklift drivers?\n",
      "Our candidate sourcing is done through various job board platforms, social media, referrals, job fairs and events. Regarding forklift drivers, we understand that this is no easy task, so we take the time when interviewing potential associates to ensure that they have the forklift experience (with work history verification or certification verification), previous warehouse or factory experience, a good commitment to safety and have a keen eye for detail.\n",
      "\n"
     ]
    }
   ],
   "source": [
    "results = collection.query(\n",
    "    query_texts=[\"How will WalMart be involved in the hiring and interview process?\"],\n",
    "    n_results=3\n",
    ")\n",
    "print_results(results)"
   ]
  }
 ],
 "metadata": {
  "kernelspec": {
   "display_name": ".venv",
   "language": "python",
   "name": "python3"
  },
  "language_info": {
   "codemirror_mode": {
    "name": "ipython",
    "version": 3
   },
   "file_extension": ".py",
   "mimetype": "text/x-python",
   "name": "python",
   "nbconvert_exporter": "python",
   "pygments_lexer": "ipython3",
   "version": "3.11.6"
  }
 },
 "nbformat": 4,
 "nbformat_minor": 2
}
