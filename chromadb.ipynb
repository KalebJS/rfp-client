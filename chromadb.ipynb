{
 "cells": [
  {
   "cell_type": "code",
   "execution_count": 1,
   "metadata": {},
   "outputs": [],
   "source": [
    "import chromadb\n",
    "from libraries.db import DatabaseProxy"
   ]
  },
  {
   "cell_type": "code",
   "execution_count": 2,
   "metadata": {},
   "outputs": [],
   "source": [
    "chroma_client = chromadb.PersistentClient(\"./instance\")\n",
    "collection = chroma_client.create_collection(\n",
    "    name=\"my_collection\", metadata={\"hnsw:space\": \"cosine\"}, get_or_create=True\n",
    ")"
   ]
  },
  {
   "cell_type": "code",
   "execution_count": 3,
   "metadata": {},
   "outputs": [],
   "source": [
    "db = DatabaseProxy()"
   ]
  },
  {
   "cell_type": "code",
   "execution_count": 4,
   "metadata": {},
   "outputs": [],
   "source": [
    "questions = db.get_questions()"
   ]
  },
  {
   "cell_type": "code",
   "execution_count": 5,
   "metadata": {},
   "outputs": [],
   "source": [
    "documents = []\n",
    "metadatas = []\n",
    "ids = []\n",
    "for question in questions:\n",
    "    documents.append(question.text)\n",
    "    metadatas.append({\"id\": question.id})\n",
    "    ids.append(str(question.id))"
   ]
  },
  {
   "cell_type": "code",
   "execution_count": 6,
   "metadata": {},
   "outputs": [
    {
     "data": {
      "text/plain": [
       "300"
      ]
     },
     "execution_count": 6,
     "metadata": {},
     "output_type": "execute_result"
    }
   ],
   "source": [
    "if not collection.count():\n",
    "    collection.add(ids, documents=documents, metadatas=metadatas)\n",
    "collection.count()"
   ]
  },
  {
   "cell_type": "code",
   "execution_count": 7,
   "metadata": {},
   "outputs": [
    {
     "data": {
      "text/plain": [
       "[Question(id=1, text='How many candidates do you have in your database?', answer_id=1, created_datetime=datetime.datetime(2023, 11, 8, 5, 16, 40)),\n",
       " Question(id=2, text='How often do you review and refresh your database of candidates?', answer_id=2, created_datetime=datetime.datetime(2023, 11, 8, 5, 16, 40)),\n",
       " Question(id=3, text='If you are a member of the American Staffing Association, what certifications do you hold?', answer_id=3, created_datetime=datetime.datetime(2023, 11, 8, 5, 16, 40)),\n",
       " Question(id=4, text='How do you determine which employees need coverage under the ACA?', answer_id=4, created_datetime=datetime.datetime(2023, 11, 8, 5, 16, 40)),\n",
       " Question(id=5, text='Can you commit to meet emergency requests and/or urgent ad-hoc requests from Segra?', answer_id=5, created_datetime=datetime.datetime(2023, 11, 8, 5, 16, 40))]"
      ]
     },
     "execution_count": 7,
     "metadata": {},
     "output_type": "execute_result"
    }
   ],
   "source": [
    "questions[:5]"
   ]
  },
  {
   "cell_type": "code",
   "execution_count": 8,
   "metadata": {},
   "outputs": [],
   "source": [
    "def print_results(results):\n",
    "    for i in range(len(results[\"ids\"][0])):\n",
    "        print(round(results[\"distances\"][0][i], 2), results[\"documents\"][0][i])\n",
    "        question = db.get_question_by_id(results[\"ids\"][0][i])\n",
    "        print(question.answer_id, db.get_answer_by_id(question.answer_id).text)\n",
    "        print()"
   ]
  },
  {
   "cell_type": "code",
   "execution_count": 9,
   "metadata": {},
   "outputs": [
    {
     "name": "stdout",
     "output_type": "stream",
     "text": [
      "0.35 Can you briefly explain the story of your company and the estimated employee count?\n",
      "6 545 employees\n",
      "\n",
      "0.35 What is the condensed version of your company's past and the total number of people working for you?\n",
      "6 545 employees\n",
      "\n",
      "0.42 Can you give a summary of your company's background and the size of your workforce?\n",
      "6 545 employees\n",
      "\n",
      "0.44 Provide a brief of company history and number of employees\n",
      "6 545 employees\n",
      "\n",
      "0.45 Could you provide a synopsis of your company's history and the approximate number of individuals on your team?\n",
      "6 545 employees\n",
      "\n"
     ]
    }
   ],
   "source": [
    "results = collection.query(query_texts=[\"How many employees work at your firm?\"], n_results=5)\n",
    "print_results(results)"
   ]
  },
  {
   "cell_type": "code",
   "execution_count": 13,
   "metadata": {},
   "outputs": [
    {
     "name": "stdout",
     "output_type": "stream",
     "text": [
      "0.48 What action or steps do you implement to retain employees throughout the season?\n",
      "47 Ex 1: We perform extensive screening for candidates that best match the job descriptions and are comfortable with the expectations at each site. We take care of all of our associates and over-communicate to ensure successful placement.                                                                                                                                                           \n",
      "Ex 2: Employee Recognition\n",
      "We are firm believers in recognizing and rewarding good behavior and have met with much success using some of these employee appreciation efforts \n",
      "ï¿½\tEmployee of the Month ï¿½ working together with supervisory staff in identifying deserving associates each month.\n",
      "ï¿½\tRaffle Employee Attendance Program.  Anyone with 100% attendance with 40 hours plus in a week, raffle items (gas cards, gift cards, CASH). \n",
      "ï¿½\tEmployee ï¿½Goalï¿½ Lunch or Raffle:  When an employee or ï¿½Teamï¿½ achieves a set goal or exceeds expectations, we would sponsor a special lunch or do a raffle for that Team. This approach caffective in achieving higher attendance.\n",
      "\n",
      "0.49 What is the frequency at which your teams have access to the most recent information on job seekers in your database?\n",
      "2 Our sourcing platform is updated throughout the day and allows our teams to view associate who have recently completed assignments successfully, those who have been newly onboarded and those in the application process. This allows our teams to view the most up to date information with associates who are actively seeking employment.\n",
      "\n",
      "0.49 In what intervals does your sourcing platform refresh and display the latest information of job seekers?\n",
      "2 Our sourcing platform is updated throughout the day and allows our teams to view associate who have recently completed assignments successfully, those who have been newly onboarded and those in the application process. This allows our teams to view the most up to date information with associates who are actively seeking employment.\n",
      "\n",
      "0.51 How frequently does your database update to include new additions and recent activity of potential candidates?\n",
      "2 Our sourcing platform is updated throughout the day and allows our teams to view associate who have recently completed assignments successfully, those who have been newly onboarded and those in the application process. This allows our teams to view the most up to date information with associates who are actively seeking employment.\n",
      "\n",
      "0.52 What is the condensed version of your company's past and the total number of people working for you?\n",
      "6 545 employees\n",
      "\n"
     ]
    }
   ],
   "source": [
    "results = collection.query(query_texts=[\"How often do you hire new employees?\"], n_results=5)\n",
    "print_results(results)"
   ]
  },
  {
   "cell_type": "code",
   "execution_count": 14,
   "metadata": {},
   "outputs": [
    {
     "name": "stdout",
     "output_type": "stream",
     "text": [
      "0.62 Can you provide details on any additional screening methods utilized by your organization beyond employment verification and background checks?\n",
      "46 Partners Personnel conducts Integrity testing, workplace safety training and testing, forklift safety videos and testing. Additionally, we conduct client specific orientations and customize our screening processes to the requirements of our customers.\n",
      "\n",
      "0.63 In addition to employment verification and background checks, are there any other screening procedures your firm undertakes?\n",
      "46 Partners Personnel conducts Integrity testing, workplace safety training and testing, forklift safety videos and testing. Additionally, we conduct client specific orientations and customize our screening processes to the requirements of our customers.\n",
      "\n",
      "0.63 How does Partners Personnel conduct background screenings and what criteria do they use?\n",
      "45 Partners Personnel standardly conducts background screenings from the Federal, National, State, County and City levels. Additionally we screen SSI and other customized client specific screenings\n",
      "\n",
      "0.63 What specific screening criteria and methods does Partners Personnel employ?\n",
      "45 Partners Personnel standardly conducts background screenings from the Federal, National, State, County and City levels. Additionally we screen SSI and other customized client specific screenings\n",
      "\n",
      "0.63 Apart from employment verification and background checks, what other types of screening does your firm engage in?\n",
      "46 Partners Personnel conducts Integrity testing, workplace safety training and testing, forklift safety videos and testing. Additionally, we conduct client specific orientations and customize our screening processes to the requirements of our customers.\n",
      "\n"
     ]
    }
   ],
   "source": [
    "results = collection.query(\n",
    "    query_texts=[\"How will WalMart be involved in the hiring and interview process?\"], n_results=5\n",
    ")\n",
    "print_results(results)"
   ]
  },
  {
   "cell_type": "code",
   "execution_count": 12,
   "metadata": {},
   "outputs": [
    {
     "name": "stdout",
     "output_type": "stream",
     "text": [
      "0.63 What actions do you implement to support and reward employees who consistently meet or exceed expectations?\n",
      "47 Ex 1: We perform extensive screening for candidates that best match the job descriptions and are comfortable with the expectations at each site. We take care of all of our associates and over-communicate to ensure successful placement.                                                                                                                                                           \n",
      "Ex 2: Employee Recognition\n",
      "We are firm believers in recognizing and rewarding good behavior and have met with much success using some of these employee appreciation efforts \n",
      "ï¿½\tEmployee of the Month ï¿½ working together with supervisory staff in identifying deserving associates each month.\n",
      "ï¿½\tRaffle Employee Attendance Program.  Anyone with 100% attendance with 40 hours plus in a week, raffle items (gas cards, gift cards, CASH). \n",
      "ï¿½\tEmployee ï¿½Goalï¿½ Lunch or Raffle:  When an employee or ï¿½Teamï¿½ achieves a set goal or exceeds expectations, we would sponsor a special lunch or do a raffle for that Team. This approach caffective in achieving higher attendance.\n",
      "\n",
      "0.64 What action or steps do you implement to retain employees throughout the season?\n",
      "47 Ex 1: We perform extensive screening for candidates that best match the job descriptions and are comfortable with the expectations at each site. We take care of all of our associates and over-communicate to ensure successful placement.                                                                                                                                                           \n",
      "Ex 2: Employee Recognition\n",
      "We are firm believers in recognizing and rewarding good behavior and have met with much success using some of these employee appreciation efforts \n",
      "ï¿½\tEmployee of the Month ï¿½ working together with supervisory staff in identifying deserving associates each month.\n",
      "ï¿½\tRaffle Employee Attendance Program.  Anyone with 100% attendance with 40 hours plus in a week, raffle items (gas cards, gift cards, CASH). \n",
      "ï¿½\tEmployee ï¿½Goalï¿½ Lunch or Raffle:  When an employee or ï¿½Teamï¿½ achieves a set goal or exceeds expectations, we would sponsor a special lunch or do a raffle for that Team. This approach caffective in achieving higher attendance.\n",
      "\n",
      "0.65 How do you ensure that employees are motivated and satisfied with their positions throughout the season?\n",
      "47 Ex 1: We perform extensive screening for candidates that best match the job descriptions and are comfortable with the expectations at each site. We take care of all of our associates and over-communicate to ensure successful placement.                                                                                                                                                           \n",
      "Ex 2: Employee Recognition\n",
      "We are firm believers in recognizing and rewarding good behavior and have met with much success using some of these employee appreciation efforts \n",
      "ï¿½\tEmployee of the Month ï¿½ working together with supervisory staff in identifying deserving associates each month.\n",
      "ï¿½\tRaffle Employee Attendance Program.  Anyone with 100% attendance with 40 hours plus in a week, raffle items (gas cards, gift cards, CASH). \n",
      "ï¿½\tEmployee ï¿½Goalï¿½ Lunch or Raffle:  When an employee or ï¿½Teamï¿½ achieves a set goal or exceeds expectations, we would sponsor a special lunch or do a raffle for that Team. This approach caffective in achieving higher attendance.\n",
      "\n"
     ]
    }
   ],
   "source": [
    "results = collection.query(query_texts=[\"Where do your employees like to go trick-or-treating?\"], n_results=3)\n",
    "print_results(results)"
   ]
  }
 ],
 "metadata": {
  "kernelspec": {
   "display_name": ".venv",
   "language": "python",
   "name": "python3"
  },
  "language_info": {
   "codemirror_mode": {
    "name": "ipython",
    "version": 3
   },
   "file_extension": ".py",
   "mimetype": "text/x-python",
   "name": "python",
   "nbconvert_exporter": "python",
   "pygments_lexer": "ipython3",
   "version": "3.11.6"
  }
 },
 "nbformat": 4,
 "nbformat_minor": 2
}
