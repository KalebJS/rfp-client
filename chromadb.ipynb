{
 "cells": [
  {
   "cell_type": "code",
   "execution_count": 1,
   "metadata": {},
   "outputs": [],
   "source": [
    "import chromadb\n",
    "from libraries.db import DatabaseProxy"
   ]
  },
  {
   "cell_type": "code",
   "execution_count": 2,
   "metadata": {},
   "outputs": [],
   "source": [
    "chroma_client = chromadb.PersistentClient(\"./instance\")\n",
    "collection = chroma_client.create_collection(\n",
    "    name=\"my_collection\", get_or_create=True, metadata={\"hnsw:space\": \"ip\"}\n",
    ")"
   ]
  },
  {
   "cell_type": "code",
   "execution_count": 3,
   "metadata": {},
   "outputs": [],
   "source": [
    "db = DatabaseProxy()"
   ]
  },
  {
   "cell_type": "code",
   "execution_count": 4,
   "metadata": {},
   "outputs": [],
   "source": [
    "questions = db.get_questions()"
   ]
  },
  {
   "cell_type": "code",
   "execution_count": 5,
   "metadata": {},
   "outputs": [],
   "source": [
    "documents = []\n",
    "metadatas = []\n",
    "ids = []\n",
    "for question in questions:\n",
    "    documents.append(question.text)\n",
    "    metadatas.append({\"id\": question.id})\n",
    "    ids.append(str(question.id))"
   ]
  },
  {
   "cell_type": "code",
   "execution_count": 6,
   "metadata": {},
   "outputs": [
    {
     "data": {
      "text/plain": [
       "299"
      ]
     },
     "execution_count": 6,
     "metadata": {},
     "output_type": "execute_result"
    }
   ],
   "source": [
    "if not collection.count():\n",
    "    collection.add(ids, documents=documents, metadatas=metadatas)\n",
    "collection.count()"
   ]
  },
  {
   "cell_type": "code",
   "execution_count": 7,
   "metadata": {},
   "outputs": [
    {
     "data": {
      "text/plain": [
       "[Question(is_active=True, modified_datetime=datetime.datetime(2023, 11, 17, 22, 26, 43), id=1, created_datetime=datetime.datetime(2023, 11, 17, 22, 26, 43), text='How many candidates do you have in your database?', answer_id=1),\n",
       " Question(is_active=True, modified_datetime=datetime.datetime(2023, 11, 17, 22, 26, 43), id=2, created_datetime=datetime.datetime(2023, 11, 17, 22, 26, 43), text='How often do you review and refresh your database of candidates?', answer_id=2),\n",
       " Question(is_active=True, modified_datetime=datetime.datetime(2023, 11, 17, 22, 26, 43), id=3, created_datetime=datetime.datetime(2023, 11, 17, 22, 26, 43), text='If you are a member of the American Staffing Association, what certifications do you hold?', answer_id=3),\n",
       " Question(is_active=True, modified_datetime=datetime.datetime(2023, 11, 17, 22, 26, 43), id=4, created_datetime=datetime.datetime(2023, 11, 17, 22, 26, 43), text='How do you determine which employees need coverage under the ACA?', answer_id=4),\n",
       " Question(is_active=True, modified_datetime=datetime.datetime(2023, 11, 17, 22, 26, 43), id=5, created_datetime=datetime.datetime(2023, 11, 17, 22, 26, 43), text='Can you commit to meet emergency requests and/or urgent ad-hoc requests from Segra?', answer_id=5)]"
      ]
     },
     "execution_count": 7,
     "metadata": {},
     "output_type": "execute_result"
    }
   ],
   "source": [
    "questions[:5]"
   ]
  },
  {
   "cell_type": "code",
   "execution_count": 24,
   "metadata": {},
   "outputs": [],
   "source": [
    "def print_results(results):\n",
    "    for i in range(len(results[\"ids\"][0])):\n",
    "        question = db.get_question_by_id(results[\"ids\"][0][i])\n",
    "        print(round(results[\"distances\"][0][i], 2), question.answer_id, results[\"documents\"][0][i])"
   ]
  },
  {
   "cell_type": "code",
   "execution_count": 31,
   "metadata": {},
   "outputs": [],
   "source": [
    "from collections import defaultdict\n",
    "\n",
    "\n",
    "def nearest_neighbors(results):\n",
    "    classes = defaultdict(int)\n",
    "    for i in range(len(results[\"ids\"][0])):\n",
    "        question = de.get_question_by_id(results[\"ids\"][0][i])\n",
    "        score = 1 - round(results[\"distances\"][0][i], 2)\n",
    "        classes[question.answer_id] += score\n",
    "\n",
    "    print(dict(classes))\n",
    "\n",
    "    return max(classes, key=classes.get)\n"
   ]
  },
  {
   "cell_type": "code",
   "execution_count": 32,
   "metadata": {},
   "outputs": [
    {
     "name": "stdout",
     "output_type": "stream",
     "text": [
      "0.29 6 How many employees does your company currently have, and could you give us a brief overview of your history?\n",
      "0.3 6 What is the employee count for your company, and can you give us a concise overview of its history?\n",
      "0.34 6 Could you provide the number of employees at your company and give us a brief background of its journey?\n",
      "0.38 6 Can you give us a summary of your company's background and provide the number of employees?\n",
      "0.43 6 Tell us about the size of your workforce and provide a brief summary of your company's past.\n"
     ]
    }
   ],
   "source": [
    "results = collection.query(query_texts=[\"How many employees work at your firm?\"], n_results=5)\n",
    "print_results(results)"
   ]
  },
  {
   "cell_type": "code",
   "execution_count": 33,
   "metadata": {},
   "outputs": [
    {
     "name": "stdout",
     "output_type": "stream",
     "text": [
      "0.46 2 How often are new candidates added to your sourcing platform for your teams to view?\n",
      "0.46 2 How regularly do your teams have access to fresh data on candidates who are actively seeking employment?\n",
      "0.48 47 What action or steps do you implement to retain employees throughout the season?\n",
      "0.5 49 How often do you collect feedback from the associates you've placed to gauge their level of satisfaction?\n",
      "0.51 47 What strategies do you implement to ensure employee retention throughout the year?\n"
     ]
    }
   ],
   "source": [
    "results = collection.query(query_texts=[\"How often do you hire new employees?\"], n_results=5)\n",
    "print_results(results)"
   ]
  },
  {
   "cell_type": "code",
   "execution_count": 34,
   "metadata": {},
   "outputs": [
    {
     "name": "stdout",
     "output_type": "stream",
     "text": [
      "0.56 46 Could you elaborate on the screening procedures your firm implements beyond employment verification and background checks?\n",
      "0.6 46 What other screening methods does your firm employ aside from the standard employment verification and background checks?\n",
      "0.62 45 How does Partners Personnel conduct background screenings and what factors are considered in the process?\n",
      "0.63 45 Could you provide details on the screening criteria and methodology employed by your company?\n",
      "0.63 46 Are there any supplementary screening protocols that your firm follows aside from verifying employment and conducting background checks?\n",
      "0.64 6 Could you provide the number of employees at your company and give us a brief background of its journey?\n",
      "0.65 46 Does your firm engage in any additional screening behind employment verification and background checks?\n",
      "0.65 1 As of today, how many job seekers are listed in your database?\n",
      "0.66 46 Apart from the usual background checks and employment verification, are there any additional screening measures your firm undertakes?\n",
      "0.66 2 How regularly do your teams have access to fresh data on candidates who are actively seeking employment?\n"
     ]
    }
   ],
   "source": [
    "results = collection.query(\n",
    "    query_texts=[\"How will WalMart be involved in the hiring and interview process?\"], n_results=10\n",
    ")\n",
    "print_results(results)\n"
   ]
  },
  {
   "cell_type": "code",
   "execution_count": 35,
   "metadata": {},
   "outputs": [
    {
     "name": "stdout",
     "output_type": "stream",
     "text": [
      "0.59 47 How do you go about keeping your employees engaged and committed to their roles for the duration of the season?\n",
      "0.64 47 What action or steps do you implement to retain employees throughout the season?\n",
      "0.65 47 Could you share some of the initiatives you have in place to retain your employees during the seasonal period?\n",
      "0.65 47 What measures do you take to motivate and incentivize your employees to stay with your company?\n",
      "0.7 49 What system do you have in place to regularly monitor the satisfaction of the employees you've placed?\n",
      "0.74 47 What steps do you take to create a positive and supportive work environment that encourages employee retention?\n",
      "0.74 46 What other screening methods does your firm employ aside from the standard employment verification and background checks?\n",
      "0.75 16 What security measures are in place to control access to the production environment with sensitive services, functions, and environments?\n",
      "0.75 49 How often do you collect feedback from the associates you've placed to gauge their level of satisfaction?\n",
      "0.76 9 Are there any external regulations that your company needs to adhere to?\n",
      "{47: 1.7300000000000002, 49: 0.55, 46: 0.26, 16: 0.25, 9: 0.24}\n"
     ]
    },
    {
     "data": {
      "text/plain": [
       "47"
      ]
     },
     "execution_count": 35,
     "metadata": {},
     "output_type": "execute_result"
    }
   ],
   "source": [
    "results = collection.query(query_texts=[\"Where do your employees like to go trick-or-treating?\"], n_results=10)\n",
    "print_results(results)\n",
    "nearest_neighbors(results)"
   ]
  },
  {
   "cell_type": "code",
   "execution_count": 36,
   "metadata": {},
   "outputs": [
    {
     "name": "stdout",
     "output_type": "stream",
     "text": [
      "0.25 42 What is the URL for your website?\n",
      "0.64 42 What is the name of the website for Partners Personnel?\n",
      "0.64 42 What is the website address for Partners Personnel?\n",
      "0.71 1 How many candidates do you have in your database?\n",
      "0.74 1 As of today, how many job seekers are listed in your database?\n",
      "0.74 1 Can you tell me about the current size of your candidate database?\n",
      "0.74 42 Can you provide me with the web link for Partners Personnel?\n",
      "0.75 2 What is the frequency at which your sourcing platform is updated with new candidate information?\n",
      "0.77 10 Is there a way for the public to view your Security/Compliance reports?\n",
      "0.77 1 Could you provide an overview of the quantity of candidates present in your database at this time?\n",
      "{42: 1.7299999999999998, 1: 1.04, 2: 0.25, 10: 0.22999999999999998}\n"
     ]
    },
    {
     "data": {
      "text/plain": [
       "42"
      ]
     },
     "execution_count": 36,
     "metadata": {},
     "output_type": "execute_result"
    }
   ],
   "source": [
    "results = collection.query(\n",
    "    query_texts=[\"What is your website?\"], n_results=10\n",
    ")\n",
    "print_results(results)\n",
    "nearest_neighbors(results)"
   ]
  }
 ],
 "metadata": {
  "kernelspec": {
   "display_name": ".venv",
   "language": "python",
   "name": "python3"
  },
  "language_info": {
   "codemirror_mode": {
    "name": "ipython",
    "version": 3
   },
   "file_extension": ".py",
   "mimetype": "text/x-python",
   "name": "python",
   "nbconvert_exporter": "python",
   "pygments_lexer": "ipython3",
   "version": "3.11.6"
  }
 },
 "nbformat": 4,
 "nbformat_minor": 2
}
