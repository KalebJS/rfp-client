{
 "cells": [
  {
   "cell_type": "code",
   "execution_count": 14,
   "metadata": {},
   "outputs": [],
   "source": [
    "import chromadb\n",
    "from libraries.db import DatabaseProxy"
   ]
  },
  {
   "cell_type": "code",
   "execution_count": 15,
   "metadata": {},
   "outputs": [],
   "source": [
    "chroma_client = chromadb.PersistentClient(\"./instance\")\n",
    "collection = chroma_client.create_collection(name=\"my_collection\", metadata={\"hnsw:space\": \"cosine\"}, get_or_create=True)"
   ]
  },
  {
   "cell_type": "code",
   "execution_count": 16,
   "metadata": {},
   "outputs": [],
   "source": [
    "db = DatabaseProxy()"
   ]
  },
  {
   "cell_type": "code",
   "execution_count": 17,
   "metadata": {},
   "outputs": [],
   "source": [
    "questions = db.get_questions()"
   ]
  },
  {
   "cell_type": "code",
   "execution_count": 18,
   "metadata": {},
   "outputs": [],
   "source": [
    "documents = []\n",
    "metadatas = []\n",
    "ids = []\n",
    "for question in questions:\n",
    "    documents.append(question.text)\n",
    "    metadatas.append({\"id\": question.id})\n",
    "    ids.append(str(question.id))"
   ]
  },
  {
   "cell_type": "code",
   "execution_count": 26,
   "metadata": {},
   "outputs": [
    {
     "data": {
      "text/plain": [
       "300"
      ]
     },
     "execution_count": 26,
     "metadata": {},
     "output_type": "execute_result"
    }
   ],
   "source": [
    "if not collection.count():\n",
    "    collection.add(ids, documents=documents, metadatas=metadatas)\n",
    "collection.count()"
   ]
  },
  {
   "cell_type": "code",
   "execution_count": 20,
   "metadata": {},
   "outputs": [
    {
     "data": {
      "text/plain": [
       "[Question(answer_id=1, id=1, text='How many candidates do you have in your database?'),\n",
       " Question(answer_id=2, id=2, text='How often do you review and refresh your database of candidates?'),\n",
       " Question(answer_id=3, id=3, text='If you are a member of the American Staffing Association, what certifications do you hold?'),\n",
       " Question(answer_id=4, id=4, text='How do you determine which employees need coverage under the ACA?'),\n",
       " Question(answer_id=5, id=5, text='Can you commit to meet emergency requests and/or urgent ad-hoc requests from Segra?')]"
      ]
     },
     "execution_count": 20,
     "metadata": {},
     "output_type": "execute_result"
    }
   ],
   "source": [
    "questions[:5]"
   ]
  },
  {
   "cell_type": "code",
   "execution_count": 21,
   "metadata": {},
   "outputs": [],
   "source": [
    "def print_results(results):\n",
    "    for i in range(len(results[\"ids\"][0])):\n",
    "        print(results[\"ids\"][0][i], round(results[\"distances\"][0][i], 2), results[\"documents\"][0][i])\n",
    "        question = db.get_question_by_id(results[\"ids\"][0][i])\n",
    "        print(question.answer_id, db.get_answer_by_id(question.answer_id).text)\n",
    "        print()"
   ]
  },
  {
   "cell_type": "code",
   "execution_count": 22,
   "metadata": {},
   "outputs": [
    {
     "name": "stdout",
     "output_type": "stream",
     "text": [
      "6 0.44 Provide a brief of company history and number of employees\n",
      "6 545 employees\n",
      "\n",
      "69 0.56 How many individuals are currently in your candidate database?\n",
      "4 ACA compliance states that anyone who on average works more than 30 hours per week or 130 hours per month requires aca coverage. Our payroll system automates this process through the start dates, hours worked and end dates of assignments.\n",
      "\n",
      "49 0.57 What is your most recent satisfaction score for the employees youï¿½ve placed\n",
      "49 We continually hold ourselves accountable to the satisfaction of the associates we place out on assignment. Our branches are scored weekly on the first day follow up calls to associates recently placed. Additionally, our on-site representatives conduct weekly associate satisfaction surveys on 10% of the population, scored weekly on the completion percentage, to ensure we trend in the right direction with happy associates and a good work environment.\n",
      "\n"
     ]
    }
   ],
   "source": [
    "results = collection.query(\n",
    "    query_texts=[\"How many employees work at your firm?\"],\n",
    "    n_results=3\n",
    ")\n",
    "print_results(results)"
   ]
  },
  {
   "cell_type": "code",
   "execution_count": 23,
   "metadata": {},
   "outputs": [
    {
     "name": "stdout",
     "output_type": "stream",
     "text": [
      "47 0.48 What action or steps do you implement to retain employees throughout the season?\n",
      "47 Ex 1: We perform extensive screening for candidates that best match the job descriptions and are comfortable with the expectations at each site. We take care of all of our associates and over-communicate to ensure successful placement.                                                                                                                                                           \n",
      "Ex 2: Employee Recognition\n",
      "We are firm believers in recognizing and rewarding good behavior and have met with much success using some of these employee appreciation efforts \n",
      "ï¿½\tEmployee of the Month ï¿½ working together with supervisory staff in identifying deserving associates each month.\n",
      "ï¿½\tRaffle Employee Attendance Program.  Anyone with 100% attendance with 40 hours plus in a week, raffle items (gas cards, gift cards, CASH). \n",
      "ï¿½\tEmployee ï¿½Goalï¿½ Lunch or Raffle:  When an employee or ï¿½Teamï¿½ achieves a set goal or exceeds expectations, we would sponsor a special lunch or do a raffle for that Team. This approach caffective in achieving higher attendance.\n",
      "\n",
      "296 0.52 How frequently do you update the number of candidates in your database?\n",
      "50 Short Matter Name Organizational Unit > Org. Unit (w/ path) Matter Group Type > Matter Group Type (w/ path) Matter: Open/Closed Lead Company Person > Full Name Lead Firm > Firm: Short Name Description Start Date Comment\n",
      "Conrad, Amy Partners Personnel - Management Services, LLC Litigation/Dispute > Regulatory Open Moro, Christian Ford Harrison Conrad filed a charge of discrimination with the EEOC alleging she was discriminated against because of her age (Age Discrimination in Employment Act of 1967) and religion (Title VII of the Civil Rights Act of 1964.) 44305 Position Statement filed 8/9/2021. Awaiting EEOC deterimination.\n",
      "Jackson, Deanna Partners Personnel - Management Services, LLC Litigation/Dispute > Regulatory Open Moro, Christian N/A EEOC Charge alleging disability discrimination under Title VII and the ADA 44410 Position Statement filed 8/12/2021. Awaiting EEOC deterimination.\n",
      "Johnson, Tari Partners Personnel - Management Services, LLC Litigation/Dispute > Regulatory Open Moro, Christian Gordon & Rees LLP Charge of race discrimination, Gov. Code 12940 43552 Insufficient Evidence deterimination from EEOC on 5/3/2021. Johnson has until 5/3/2022 to file a civil complaint. \n",
      "Oates, Kristopher Partners Personnel - Management Services, LLC Litigation/Dispute > Regulatory Closed Moro, Christian Ericksen Arbuthnot Charge of Discrimination - Race and Retaliation 44155 Position Statement filed 2/17/2021. Awaiting EEOC Determination.\n",
      "Vargas, Juan Partners Personnel - Management Services, LLC Litigation/Dispute > Regulatory Closed Moro, Christian N/A Charge of Gender Discrimination 43896 Settlement with EEOC executed on 10/14/2020 \n",
      "Perez Oscar J Partners Personnel - Management Services, LLC Litigation/Dispute > Regulatory Active Moro, Christian N/A Charge of Discrimination - Race and Retaliation 43733 Request for Information Response filed 04/08/2021. Awaiting EEOC determination.\n",
      "\n",
      "2 0.56 How often do you review and refresh your database of candidates?\n",
      "2 Our sourcing platform is updated throughout the day and allows our teams to view associate who have recently completed assignments successfully, those who have been newly onboarded and those in the application process. This allows our teams to view the most up to date information with associates who are actively seeking employment.\n",
      "\n"
     ]
    }
   ],
   "source": [
    "results = collection.query(\n",
    "    query_texts=[\"How often do you hire new employees?\"],\n",
    "    n_results=3\n",
    ")\n",
    "print_results(results)"
   ]
  },
  {
   "cell_type": "code",
   "execution_count": 24,
   "metadata": {},
   "outputs": [
    {
     "name": "stdout",
     "output_type": "stream",
     "text": [
      "46 0.65 Does your firm engage in any additional screening behind employment verification and background checks?\n",
      "46 Partners Personnel conducts Integrity testing, workplace safety training and testing, forklift safety videos and testing. Additionally, we conduct client specific orientations and customize our screening processes to the requirements of our customers.\n",
      "\n",
      "130 0.67 How many candidates are currently available in your database for potential job placements?\n",
      "16 No\n",
      "\n",
      "47 0.69 What action or steps do you implement to retain employees throughout the season?\n",
      "47 Ex 1: We perform extensive screening for candidates that best match the job descriptions and are comfortable with the expectations at each site. We take care of all of our associates and over-communicate to ensure successful placement.                                                                                                                                                           \n",
      "Ex 2: Employee Recognition\n",
      "We are firm believers in recognizing and rewarding good behavior and have met with much success using some of these employee appreciation efforts \n",
      "ï¿½\tEmployee of the Month ï¿½ working together with supervisory staff in identifying deserving associates each month.\n",
      "ï¿½\tRaffle Employee Attendance Program.  Anyone with 100% attendance with 40 hours plus in a week, raffle items (gas cards, gift cards, CASH). \n",
      "ï¿½\tEmployee ï¿½Goalï¿½ Lunch or Raffle:  When an employee or ï¿½Teamï¿½ achieves a set goal or exceeds expectations, we would sponsor a special lunch or do a raffle for that Team. This approach caffective in achieving higher attendance.\n",
      "\n"
     ]
    }
   ],
   "source": [
    "results = collection.query(\n",
    "    query_texts=[\"How will WalMart be involved in the hiring and interview process?\"],\n",
    "    n_results=3\n",
    ")\n",
    "print_results(results)"
   ]
  },
  {
   "cell_type": "code",
   "execution_count": 25,
   "metadata": {},
   "outputs": [
    {
     "name": "stdout",
     "output_type": "stream",
     "text": [
      "47 0.64 What action or steps do you implement to retain employees throughout the season?\n",
      "47 Ex 1: We perform extensive screening for candidates that best match the job descriptions and are comfortable with the expectations at each site. We take care of all of our associates and over-communicate to ensure successful placement.                                                                                                                                                           \n",
      "Ex 2: Employee Recognition\n",
      "We are firm believers in recognizing and rewarding good behavior and have met with much success using some of these employee appreciation efforts \n",
      "ï¿½\tEmployee of the Month ï¿½ working together with supervisory staff in identifying deserving associates each month.\n",
      "ï¿½\tRaffle Employee Attendance Program.  Anyone with 100% attendance with 40 hours plus in a week, raffle items (gas cards, gift cards, CASH). \n",
      "ï¿½\tEmployee ï¿½Goalï¿½ Lunch or Raffle:  When an employee or ï¿½Teamï¿½ achieves a set goal or exceeds expectations, we would sponsor a special lunch or do a raffle for that Team. This approach caffective in achieving higher attendance.\n",
      "\n",
      "3 0.78 If you are a member of the American Staffing Association, what certifications do you hold?\n",
      "3 Partners Personnel is not currently a member of the American Staffing Association. However, Partners Personnel has been recognized by the Staffing Industry Analysts (SIA) as the Best Staffing Firm To Work For in 2022 and 2023. Additionally, Partners Personnel has been recognized by Clearly Rated as the Best of Staffing Client Satisfaction and Best of Staffing Talent Satisfaction for 2023.\n",
      "\n",
      "40 0.8 Parent Company (if any)\n",
      "40 Esperer\n",
      "\n"
     ]
    }
   ],
   "source": [
    "results = collection.query(\n",
    "    query_texts=[\"Where do your employees like to go trick-or-treating?\"],\n",
    "    n_results=3\n",
    ")\n",
    "print_results(results)"
   ]
  }
 ],
 "metadata": {
  "kernelspec": {
   "display_name": ".venv",
   "language": "python",
   "name": "python3"
  },
  "language_info": {
   "codemirror_mode": {
    "name": "ipython",
    "version": 3
   },
   "file_extension": ".py",
   "mimetype": "text/x-python",
   "name": "python",
   "nbconvert_exporter": "python",
   "pygments_lexer": "ipython3",
   "version": "3.11.6"
  }
 },
 "nbformat": 4,
 "nbformat_minor": 2
}
